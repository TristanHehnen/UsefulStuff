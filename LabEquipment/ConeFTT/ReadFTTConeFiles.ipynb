{
 "cells": [
  {
   "cell_type": "markdown",
   "metadata": {},
   "source": [
    "# Read FTT Cone Calorimeter Result Files"
   ]
  },
  {
   "cell_type": "code",
   "execution_count": 1,
   "metadata": {},
   "outputs": [],
   "source": [
    "import os\n",
    "\n",
    "import numpy as np\n",
    "import pandas as pd\n",
    "\n",
    "import matplotlib\n",
    "import matplotlib.pyplot as plt"
   ]
  },
  {
   "cell_type": "code",
   "execution_count": 2,
   "metadata": {},
   "outputs": [
    {
     "name": "stdout",
     "output_type": "stream",
     "text": [
      "Package Versions\n",
      "----------------\n",
      "Pandas version: 0.22.0\n",
      "Numpy version: 1.14.0\n",
      "Matplotlib version: 2.1.2\n"
     ]
    }
   ],
   "source": [
    "print('Package Versions')\n",
    "print('----------------')\n",
    "print('Pandas version: {}'.format(pd.__version__))\n",
    "print('Numpy version: {}'.format(np.__version__))\n",
    "print('Matplotlib version: {}'.format(matplotlib.__version__))"
   ]
  },
  {
   "cell_type": "code",
   "execution_count": 3,
   "metadata": {},
   "outputs": [
    {
     "name": "stdout",
     "output_type": "stream",
     "text": [
      "D:\\Git\\UsefulStuff\\LabEquipment\\ConeFTT\n"
     ]
    }
   ],
   "source": [
    "cwd = os.getcwd()\n",
    "print(cwd)"
   ]
  },
  {
   "cell_type": "code",
   "execution_count": 6,
   "metadata": {},
   "outputs": [],
   "source": [
    "# Define general information needed within this notebook.\n",
    "\n",
    "# Location of experimental data files.\n",
    "exp_data_dir = os.path.join(\"ExperimentalData\", \n",
    "                            \"16060023_red_V44.csv\")\n"
   ]
  },
  {
   "cell_type": "markdown",
   "metadata": {},
   "source": [
    "# Read the Files\n",
    "\n",
    "The special symbols used in the files are somewhat annoying. Thus, they are removed in the following block, before further steps are taken for any data analysis."
   ]
  },
  {
   "cell_type": "code",
   "execution_count": 50,
   "metadata": {},
   "outputs": [],
   "source": [
    "# Read a single line of the csv file to extract the column labels as a list.\n",
    "column_labels_original=list(pd.read_csv(exp_data_dir, delimiter=\"\\t\", encoding='cp1250', \n",
    "                   header=1, nrows=1))#usecols=[0,1])\n",
    "\n",
    "column_labels = list()\n",
    "# Remove the squared symbol.\n",
    "for i, val in enumerate(column_labels_original):\n",
    "    if \"˛\" in val:\n",
    "        column_labels.append(val.replace(\"˛\", \"2\"))\n",
    "    else:\n",
    "        column_labels.append(val)\n",
    "\n",
    "# Remove the multiplication (dot) symbol.\n",
    "for i, val in enumerate(column_labels):    \n",
    "    if \"·\" in val:\n",
    "        column_labels[i]=val.replace(\"·\", \"\")"
   ]
  },
  {
   "cell_type": "code",
   "execution_count": 51,
   "metadata": {},
   "outputs": [
    {
     "data": {
      "text/plain": [
       "['Parameter',\n",
       " 'Value',\n",
       " 'Time (s)',\n",
       " 'HRR (kW/m˛)',\n",
       " 'THR (MJ/m˛)',\n",
       " 'Specimen mass (g)',\n",
       " 'MLR (g/s)',\n",
       " 'Specific MLR (g/m˛·s)',\n",
       " 'EHC (MJ/kg)',\n",
       " 'ARHE(kW/m˛)']"
      ]
     },
     "execution_count": 51,
     "metadata": {},
     "output_type": "execute_result"
    }
   ],
   "source": [
    "# Column labels as provided within the csv file.\n",
    "column_labels_original"
   ]
  },
  {
   "cell_type": "code",
   "execution_count": 52,
   "metadata": {},
   "outputs": [
    {
     "data": {
      "text/plain": [
       "['Parameter',\n",
       " 'Value',\n",
       " 'Time (s)',\n",
       " 'HRR (kW/m2)',\n",
       " 'THR (MJ/m2)',\n",
       " 'Specimen mass (g)',\n",
       " 'MLR (g/s)',\n",
       " 'Specific MLR (g/m2s)',\n",
       " 'EHC (MJ/kg)',\n",
       " 'ARHE(kW/m2)']"
      ]
     },
     "execution_count": 52,
     "metadata": {},
     "output_type": "execute_result"
    }
   ],
   "source": [
    "# Adjusted column labels for better usage.\n",
    "column_labels"
   ]
  },
  {
   "cell_type": "code",
   "execution_count": 49,
   "metadata": {},
   "outputs": [
    {
     "data": {
      "text/html": [
       "<div>\n",
       "<style scoped>\n",
       "    .dataframe tbody tr th:only-of-type {\n",
       "        vertical-align: middle;\n",
       "    }\n",
       "\n",
       "    .dataframe tbody tr th {\n",
       "        vertical-align: top;\n",
       "    }\n",
       "\n",
       "    .dataframe thead th {\n",
       "        text-align: right;\n",
       "    }\n",
       "</style>\n",
       "<table border=\"1\" class=\"dataframe\">\n",
       "  <thead>\n",
       "    <tr style=\"text-align: right;\">\n",
       "      <th></th>\n",
       "      <th>Parameter</th>\n",
       "      <th>Value</th>\n",
       "    </tr>\n",
       "  </thead>\n",
       "  <tbody>\n",
       "    <tr>\n",
       "      <th>0</th>\n",
       "      <td>Peaks</td>\n",
       "      <td>NaN</td>\n",
       "    </tr>\n",
       "    <tr>\n",
       "      <th>1</th>\n",
       "      <td>peak HRR (kW/m˛)</td>\n",
       "      <td>0.000000</td>\n",
       "    </tr>\n",
       "    <tr>\n",
       "      <th>2</th>\n",
       "      <td>peak EHC (MJ/kg)</td>\n",
       "      <td>0.000000</td>\n",
       "    </tr>\n",
       "    <tr>\n",
       "      <th>3</th>\n",
       "      <td>peak MLR (g/s)</td>\n",
       "      <td>1.090359</td>\n",
       "    </tr>\n",
       "    <tr>\n",
       "      <th>5</th>\n",
       "      <td>Time To Peaks</td>\n",
       "      <td>NaN</td>\n",
       "    </tr>\n",
       "    <tr>\n",
       "      <th>6</th>\n",
       "      <td>t peak HRR (s)</td>\n",
       "      <td>13.000000</td>\n",
       "    </tr>\n",
       "    <tr>\n",
       "      <th>7</th>\n",
       "      <td>t peak EHC (s)</td>\n",
       "      <td>13.000000</td>\n",
       "    </tr>\n",
       "    <tr>\n",
       "      <th>8</th>\n",
       "      <td>t peak MLR (s)</td>\n",
       "      <td>245.000000</td>\n",
       "    </tr>\n",
       "    <tr>\n",
       "      <th>10</th>\n",
       "      <td>Test Results (between 13 and 617 s)</td>\n",
       "      <td>NaN</td>\n",
       "    </tr>\n",
       "    <tr>\n",
       "      <th>11</th>\n",
       "      <td>mean HRR (kW/m˛)</td>\n",
       "      <td>0.000000</td>\n",
       "    </tr>\n",
       "    <tr>\n",
       "      <th>12</th>\n",
       "      <td>mean EHC (MJ/kg)</td>\n",
       "      <td>0.000000</td>\n",
       "    </tr>\n",
       "    <tr>\n",
       "      <th>13</th>\n",
       "      <td>mean MLR (g/s)</td>\n",
       "      <td>0.353951</td>\n",
       "    </tr>\n",
       "    <tr>\n",
       "      <th>14</th>\n",
       "      <td>Total heat release (MJ/m˛)</td>\n",
       "      <td>0.000000</td>\n",
       "    </tr>\n",
       "    <tr>\n",
       "      <th>15</th>\n",
       "      <td>Mass at sustained flaming (g)</td>\n",
       "      <td>216.183722</td>\n",
       "    </tr>\n",
       "    <tr>\n",
       "      <th>16</th>\n",
       "      <td>Mass at EOT (g)</td>\n",
       "      <td>2.418863</td>\n",
       "    </tr>\n",
       "    <tr>\n",
       "      <th>17</th>\n",
       "      <td>Mass lost (g)</td>\n",
       "      <td>213.764859</td>\n",
       "    </tr>\n",
       "    <tr>\n",
       "      <th>18</th>\n",
       "      <td>Specific mass lost (kg/m˛)</td>\n",
       "      <td>21.376486</td>\n",
       "    </tr>\n",
       "    <tr>\n",
       "      <th>19</th>\n",
       "      <td>Percentage mass lost (%)</td>\n",
       "      <td>98.881108</td>\n",
       "    </tr>\n",
       "    <tr>\n",
       "      <th>20</th>\n",
       "      <td>Average specific MLR (g/m˛·s)</td>\n",
       "      <td>39.133155</td>\n",
       "    </tr>\n",
       "    <tr>\n",
       "      <th>22</th>\n",
       "      <td>Test Results (between 0 and 617 s)</td>\n",
       "      <td>NaN</td>\n",
       "    </tr>\n",
       "    <tr>\n",
       "      <th>23</th>\n",
       "      <td>Total heat release (MJ/m˛)</td>\n",
       "      <td>0.000000</td>\n",
       "    </tr>\n",
       "    <tr>\n",
       "      <th>24</th>\n",
       "      <td>Initial mass (g)</td>\n",
       "      <td>215.120000</td>\n",
       "    </tr>\n",
       "    <tr>\n",
       "      <th>25</th>\n",
       "      <td>Mass at EOT (g)</td>\n",
       "      <td>2.418863</td>\n",
       "    </tr>\n",
       "    <tr>\n",
       "      <th>26</th>\n",
       "      <td>Mass lost (g)</td>\n",
       "      <td>212.701137</td>\n",
       "    </tr>\n",
       "    <tr>\n",
       "      <th>27</th>\n",
       "      <td>Specific mass lost (kg/m˛)</td>\n",
       "      <td>21.270114</td>\n",
       "    </tr>\n",
       "    <tr>\n",
       "      <th>28</th>\n",
       "      <td>Percentage mass lost (%)</td>\n",
       "      <td>98.875575</td>\n",
       "    </tr>\n",
       "    <tr>\n",
       "      <th>30</th>\n",
       "      <td>Test Averages</td>\n",
       "      <td>NaN</td>\n",
       "    </tr>\n",
       "    <tr>\n",
       "      <th>31</th>\n",
       "      <td>HRR(180) (kW/m˛)</td>\n",
       "      <td>0.000000</td>\n",
       "    </tr>\n",
       "    <tr>\n",
       "      <th>32</th>\n",
       "      <td>HRR(300) (kW/m˛)</td>\n",
       "      <td>0.000000</td>\n",
       "    </tr>\n",
       "    <tr>\n",
       "      <th>33</th>\n",
       "      <td>EHC(180) (MJ/kg)</td>\n",
       "      <td>0.000000</td>\n",
       "    </tr>\n",
       "    <tr>\n",
       "      <th>34</th>\n",
       "      <td>EHC(300) (MJ/kg)</td>\n",
       "      <td>0.000000</td>\n",
       "    </tr>\n",
       "    <tr>\n",
       "      <th>35</th>\n",
       "      <td>MLR(180) (g/s)</td>\n",
       "      <td>0.346928</td>\n",
       "    </tr>\n",
       "    <tr>\n",
       "      <th>36</th>\n",
       "      <td>MLR(300) (g/s)</td>\n",
       "      <td>0.355190</td>\n",
       "    </tr>\n",
       "  </tbody>\n",
       "</table>\n",
       "</div>"
      ],
      "text/plain": [
       "                              Parameter       Value\n",
       "0                                 Peaks         NaN\n",
       "1                      peak HRR (kW/m˛)    0.000000\n",
       "2                      peak EHC (MJ/kg)    0.000000\n",
       "3                        peak MLR (g/s)    1.090359\n",
       "5                         Time To Peaks         NaN\n",
       "6                        t peak HRR (s)   13.000000\n",
       "7                        t peak EHC (s)   13.000000\n",
       "8                        t peak MLR (s)  245.000000\n",
       "10  Test Results (between 13 and 617 s)         NaN\n",
       "11                     mean HRR (kW/m˛)    0.000000\n",
       "12                     mean EHC (MJ/kg)    0.000000\n",
       "13                       mean MLR (g/s)    0.353951\n",
       "14           Total heat release (MJ/m˛)    0.000000\n",
       "15        Mass at sustained flaming (g)  216.183722\n",
       "16                      Mass at EOT (g)    2.418863\n",
       "17                        Mass lost (g)  213.764859\n",
       "18           Specific mass lost (kg/m˛)   21.376486\n",
       "19             Percentage mass lost (%)   98.881108\n",
       "20        Average specific MLR (g/m˛·s)   39.133155\n",
       "22   Test Results (between 0 and 617 s)         NaN\n",
       "23           Total heat release (MJ/m˛)    0.000000\n",
       "24                     Initial mass (g)  215.120000\n",
       "25                      Mass at EOT (g)    2.418863\n",
       "26                        Mass lost (g)  212.701137\n",
       "27           Specific mass lost (kg/m˛)   21.270114\n",
       "28             Percentage mass lost (%)   98.875575\n",
       "30                        Test Averages         NaN\n",
       "31                     HRR(180) (kW/m˛)    0.000000\n",
       "32                     HRR(300) (kW/m˛)    0.000000\n",
       "33                     EHC(180) (MJ/kg)    0.000000\n",
       "34                     EHC(300) (MJ/kg)    0.000000\n",
       "35                       MLR(180) (g/s)    0.346928\n",
       "36                       MLR(300) (g/s)    0.355190"
      ]
     },
     "execution_count": 49,
     "metadata": {},
     "output_type": "execute_result"
    }
   ],
   "source": [
    "# Read first part of the data, the parameter overview.\n",
    "parameters = pd.read_csv(exp_data_dir, delimiter=\"\\t\", encoding='cp1250', header=1, \n",
    "                         usecols=column_labels_original[:2]).dropna(how='all')\n",
    "\n",
    "parameters"
   ]
  },
  {
   "cell_type": "code",
   "execution_count": 57,
   "metadata": {},
   "outputs": [
    {
     "data": {
      "text/html": [
       "<div>\n",
       "<style scoped>\n",
       "    .dataframe tbody tr th:only-of-type {\n",
       "        vertical-align: middle;\n",
       "    }\n",
       "\n",
       "    .dataframe tbody tr th {\n",
       "        vertical-align: top;\n",
       "    }\n",
       "\n",
       "    .dataframe thead th {\n",
       "        text-align: right;\n",
       "    }\n",
       "</style>\n",
       "<table border=\"1\" class=\"dataframe\">\n",
       "  <thead>\n",
       "    <tr style=\"text-align: right;\">\n",
       "      <th></th>\n",
       "      <th>Time (s)</th>\n",
       "      <th>HRR (kW/m2)</th>\n",
       "      <th>THR (MJ/m2)</th>\n",
       "      <th>Specimen mass (g)</th>\n",
       "      <th>MLR (g/s)</th>\n",
       "      <th>Specific MLR (g/m2s)</th>\n",
       "      <th>EHC (MJ/kg)</th>\n",
       "      <th>ARHE(kW/m2)</th>\n",
       "    </tr>\n",
       "  </thead>\n",
       "  <tbody>\n",
       "    <tr>\n",
       "      <th>0</th>\n",
       "      <td>0</td>\n",
       "      <td>0</td>\n",
       "      <td>0</td>\n",
       "      <td>215.120000</td>\n",
       "      <td>-2.126226</td>\n",
       "      <td>-212.622642</td>\n",
       "      <td>0</td>\n",
       "      <td>0</td>\n",
       "    </tr>\n",
       "    <tr>\n",
       "      <th>1</th>\n",
       "      <td>1</td>\n",
       "      <td>0</td>\n",
       "      <td>0</td>\n",
       "      <td>216.145507</td>\n",
       "      <td>-0.263909</td>\n",
       "      <td>-26.390925</td>\n",
       "      <td>0</td>\n",
       "      <td>0</td>\n",
       "    </tr>\n",
       "    <tr>\n",
       "      <th>2</th>\n",
       "      <td>2</td>\n",
       "      <td>0</td>\n",
       "      <td>0</td>\n",
       "      <td>216.146172</td>\n",
       "      <td>0.103347</td>\n",
       "      <td>10.334742</td>\n",
       "      <td>0</td>\n",
       "      <td>0</td>\n",
       "    </tr>\n",
       "    <tr>\n",
       "      <th>3</th>\n",
       "      <td>3</td>\n",
       "      <td>0</td>\n",
       "      <td>0</td>\n",
       "      <td>216.077386</td>\n",
       "      <td>0.185119</td>\n",
       "      <td>18.511892</td>\n",
       "      <td>0</td>\n",
       "      <td>0</td>\n",
       "    </tr>\n",
       "    <tr>\n",
       "      <th>4</th>\n",
       "      <td>4</td>\n",
       "      <td>0</td>\n",
       "      <td>0</td>\n",
       "      <td>215.815201</td>\n",
       "      <td>0.203479</td>\n",
       "      <td>20.347875</td>\n",
       "      <td>0</td>\n",
       "      <td>0</td>\n",
       "    </tr>\n",
       "  </tbody>\n",
       "</table>\n",
       "</div>"
      ],
      "text/plain": [
       "   Time (s)  HRR (kW/m2)  THR (MJ/m2)  Specimen mass (g)  MLR (g/s)  \\\n",
       "0         0            0            0         215.120000  -2.126226   \n",
       "1         1            0            0         216.145507  -0.263909   \n",
       "2         2            0            0         216.146172   0.103347   \n",
       "3         3            0            0         216.077386   0.185119   \n",
       "4         4            0            0         215.815201   0.203479   \n",
       "\n",
       "   Specific MLR (g/m2s)  EHC (MJ/kg)  ARHE(kW/m2)  \n",
       "0           -212.622642            0            0  \n",
       "1            -26.390925            0            0  \n",
       "2             10.334742            0            0  \n",
       "3             18.511892            0            0  \n",
       "4             20.347875            0            0  "
      ]
     },
     "execution_count": 57,
     "metadata": {},
     "output_type": "execute_result"
    }
   ],
   "source": [
    "# Read the second part, the different data series.\n",
    "exp_data = pd.read_csv(exp_data_dir, delimiter=\"\\t\", encoding='cp1250',\n",
    "                       header=1, usecols=column_labels_original[2:])\n",
    "\n",
    "# Renaming columns.\n",
    "for i_orig, orig_label in enumerate(column_labels_original):\n",
    "    exp_data.rename(columns={orig_label: column_labels[i_orig]}, inplace=True)\n",
    "\n",
    "# Provide overview over the data.\n",
    "exp_data.head()"
   ]
  },
  {
   "cell_type": "code",
   "execution_count": 64,
   "metadata": {},
   "outputs": [
    {
     "data": {
      "text/plain": [
       "Text(0,0.5,'Specimen mass (g)')"
      ]
     },
     "execution_count": 64,
     "metadata": {},
     "output_type": "execute_result"
    },
    {
     "data": {
      "image/png": "[encoded data removed]",
      "text/plain": [
       "<matplotlib.figure.Figure at 0x25263d8c048>"
      ]
     },
     "metadata": {},
     "output_type": "display_data"
    }
   ],
   "source": [
    "# Little plot for fun...\n",
    "\n",
    "# Note: Column labels as string can be used to query colums.\n",
    "x_data = \"Time (s)\"\n",
    "y_data = \"Specimen mass (g)\"\n",
    "\n",
    "# Prepare the plot.\n",
    "plt.plot(exp_data[x_data], \n",
    "         exp_data[y_data])\n",
    "\n",
    "plt.xlabel(x_data)\n",
    "plt.ylabel(y_data)"
   ]
  },
  {
   "cell_type": "code",
   "execution_count": null,
   "metadata": {},
   "outputs": [],
   "source": []
  },
  {
   "cell_type": "code",
   "execution_count": null,
   "metadata": {},
   "outputs": [],
   "source": []
  },
  {
   "cell_type": "code",
   "execution_count": null,
   "metadata": {},
   "outputs": [],
   "source": []
  },
  {
   "cell_type": "code",
   "execution_count": null,
   "metadata": {},
   "outputs": [],
   "source": []
  },
  {
   "cell_type": "code",
   "execution_count": null,
   "metadata": {},
   "outputs": [],
   "source": []
  },
  {
   "cell_type": "code",
   "execution_count": null,
   "metadata": {},
   "outputs": [],
   "source": []
  }
 ],
 "metadata": {
  "kernelspec": {
   "display_name": "Python 3",
   "language": "python",
   "name": "python3"
  },
  "language_info": {
   "codemirror_mode": {
    "name": "ipython",
    "version": 3
   },
   "file_extension": ".py",
   "mimetype": "text/x-python",
   "name": "python",
   "nbconvert_exporter": "python",
   "pygments_lexer": "ipython3",
   "version": "3.6.4"
  }
 },
 "nbformat": 4,
 "nbformat_minor": 2
}
