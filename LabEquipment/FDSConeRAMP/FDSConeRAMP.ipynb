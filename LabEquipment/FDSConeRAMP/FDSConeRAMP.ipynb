{
 "cells": [
  {
   "cell_type": "code",
   "execution_count": 38,
   "metadata": {},
   "outputs": [],
   "source": [
    "import os\n",
    "import subprocess\n",
    "import sys\n",
    "import pickle\n",
    "import copy\n",
    "import math\n",
    "import scipy\n",
    "\n",
    "import pandas as pd\n",
    "import numpy as np\n",
    "# import seaborn as sns\n",
    "import matplotlib\n",
    "import matplotlib.pyplot as plt\n",
    "import matplotlib.ticker as ticker\n",
    "# plt.rc('text', usetex=True)\n",
    "import multiprocessing as mp\n",
    "\n",
    "from scipy.signal import savgol_filter as savgol\n",
    "from scipy.signal import argrelextrema\n",
    "from scipy.interpolate import interp1d\n",
    "from matplotlib import gridspec\n",
    "from importlib import reload\n",
    "\n",
    "# sns.set(style=\"darkgrid\")\n",
    "%matplotlib inline\n",
    "\n",
    "# sys.path.insert(0, 'D:\\Git')\n",
    "# sys.path.insert(0, '/home/tristan/git/')\n",
    "# from FDSInput.data_structures import FDSMESH\n",
    "# from FDSInput.data_structures import FDSOBST\n",
    "# from FDSInput.data_structures import FDSSURF\n",
    "# from FDSInput.data_structures import FDSMATL\n",
    "\n",
    "# from UsefulStuff.UsefulStuffPython import plot_exp_mod_sim\n",
    "\n",
    "\n",
    "# sys.path.insert(0, '../GeneralInformation/')\n",
    "# from SimHandling import exchange_placeholder\n",
    "# from SimHandling import save_file\n",
    "# from SimHandling import run_job\n",
    "# from SimHandling import box_plot\n",
    "# from SimHandling import plot_exp_mod_sim\n",
    "\n",
    "# from RunFDSJobs import run_job_mp\n",
    "\n",
    "# import GeneralSimInfo as GSI\n",
    "# reload(GSI)"
   ]
  },
  {
   "cell_type": "code",
   "execution_count": 6,
   "metadata": {},
   "outputs": [
    {
     "name": "stdout",
     "output_type": "stream",
     "text": [
      "Package Versions\n",
      "----------------\n",
      "Pandas version: 0.24.1\n",
      "Numpy version: 1.15.4\n",
      "Matplotlib version: 3.0.2\n",
      "SciPy version: 1.2.1\n"
     ]
    }
   ],
   "source": [
    "print('Package Versions')\n",
    "print('----------------')\n",
    "print('Pandas version: {}'.format(pd.__version__))\n",
    "print('Numpy version: {}'.format(np.__version__))\n",
    "print('Matplotlib version: {}'.format(matplotlib.__version__))\n",
    "print('SciPy version: {}'.format(scipy.__version__))"
   ]
  },
  {
   "cell_type": "code",
   "execution_count": 7,
   "metadata": {},
   "outputs": [
    {
     "name": "stdout",
     "output_type": "stream",
     "text": [
      "D:\\Git\\UsefulStuff\\LabEquipment\\FDSConeRAMP\n"
     ]
    }
   ],
   "source": [
    "cwd = os.getcwd()\n",
    "print(cwd)"
   ]
  },
  {
   "cell_type": "markdown",
   "metadata": {},
   "source": [
    "# General Information"
   ]
  },
  {
   "cell_type": "code",
   "execution_count": 64,
   "metadata": {},
   "outputs": [],
   "source": [
    "cone_file = os.path.join('..', 'ConeFTT', 'ExperimentalData', \n",
    "                         'ConeExtract.csv')"
   ]
  },
  {
   "cell_type": "markdown",
   "metadata": {},
   "source": [
    "# Read Cone Data"
   ]
  },
  {
   "cell_type": "code",
   "execution_count": 63,
   "metadata": {},
   "outputs": [
    {
     "data": {
      "text/html": [
       "<div>\n",
       "<style scoped>\n",
       "    .dataframe tbody tr th:only-of-type {\n",
       "        vertical-align: middle;\n",
       "    }\n",
       "\n",
       "    .dataframe tbody tr th {\n",
       "        vertical-align: top;\n",
       "    }\n",
       "\n",
       "    .dataframe thead th {\n",
       "        text-align: right;\n",
       "    }\n",
       "</style>\n",
       "<table border=\"1\" class=\"dataframe\">\n",
       "  <thead>\n",
       "    <tr style=\"text-align: right;\">\n",
       "      <th></th>\n",
       "      <th>Time (s)</th>\n",
       "      <th>HRR (kW/m2)</th>\n",
       "      <th>MLR (g/s)</th>\n",
       "      <th>Specimen mass (g)</th>\n",
       "    </tr>\n",
       "  </thead>\n",
       "  <tbody>\n",
       "    <tr>\n",
       "      <th>0</th>\n",
       "      <td>0</td>\n",
       "      <td>1.004885</td>\n",
       "      <td>0.888066</td>\n",
       "      <td>106.400000</td>\n",
       "    </tr>\n",
       "    <tr>\n",
       "      <th>1</th>\n",
       "      <td>1</td>\n",
       "      <td>0.821132</td>\n",
       "      <td>-0.501073</td>\n",
       "      <td>106.414472</td>\n",
       "    </tr>\n",
       "    <tr>\n",
       "      <th>2</th>\n",
       "      <td>2</td>\n",
       "      <td>0.578730</td>\n",
       "      <td>-0.171946</td>\n",
       "      <td>106.829391</td>\n",
       "    </tr>\n",
       "    <tr>\n",
       "      <th>3</th>\n",
       "      <td>3</td>\n",
       "      <td>0.486264</td>\n",
       "      <td>0.130683</td>\n",
       "      <td>106.703843</td>\n",
       "    </tr>\n",
       "    <tr>\n",
       "      <th>4</th>\n",
       "      <td>4</td>\n",
       "      <td>0.344294</td>\n",
       "      <td>0.071574</td>\n",
       "      <td>106.651622</td>\n",
       "    </tr>\n",
       "  </tbody>\n",
       "</table>\n",
       "</div>"
      ],
      "text/plain": [
       "   Time (s)  HRR (kW/m2)  MLR (g/s)  Specimen mass (g)\n",
       "0         0     1.004885   0.888066         106.400000\n",
       "1         1     0.821132  -0.501073         106.414472\n",
       "2         2     0.578730  -0.171946         106.829391\n",
       "3         3     0.486264   0.130683         106.703843\n",
       "4         4     0.344294   0.071574         106.651622"
      ]
     },
     "execution_count": 63,
     "metadata": {},
     "output_type": "execute_result"
    }
   ],
   "source": [
    "cone_data = pd.read_csv(cone_file)\n",
    "cone_data.head()"
   ]
  },
  {
   "cell_type": "code",
   "execution_count": 17,
   "metadata": {},
   "outputs": [
    {
     "data": {
      "text/plain": [
       "[<matplotlib.lines.Line2D at 0x2bc1c7311d0>]"
      ]
     },
     "execution_count": 17,
     "metadata": {},
     "output_type": "execute_result"
    },
    {
     "data": {
      "image/png": "[encoded data removed]",
      "text/plain": [
       "<Figure size 432x288 with 1 Axes>"
      ]
     },
     "metadata": {
      "needs_background": "light"
     },
     "output_type": "display_data"
    }
   ],
   "source": [
    "plt.plot(cone_data['Time (s)'],\n",
    "         cone_data['HRR (kW/m2)'])"
   ]
  },
  {
   "cell_type": "markdown",
   "metadata": {},
   "source": [
    "# Process Data"
   ]
  },
  {
   "cell_type": "markdown",
   "metadata": {},
   "source": [
    "## Find Local Extrema"
   ]
  },
  {
   "cell_type": "code",
   "execution_count": 28,
   "metadata": {},
   "outputs": [
    {
     "data": {
      "image/png": "[encoded data removed]",
      "text/plain": [
       "<Figure size 432x288 with 1 Axes>"
      ]
     },
     "metadata": {
      "needs_background": "light"
     },
     "output_type": "display_data"
    }
   ],
   "source": [
    "# Adopted from: \n",
    "# https://stackoverflow.com/questions/48023982/pandas-finding-local-max-and-min?rq=1\n",
    "\n",
    "# number of points to be checked before and after \n",
    "n=40 \n",
    "\n",
    "# Set DataFrame and desired column.\n",
    "df = cone_data\n",
    "column_label = 'HRR (kW/m2)'\n",
    "\n",
    "# Find local peaks\n",
    "df['min'] = df.iloc[argrelextrema(df[column_label].values, \n",
    "                                  np.less_equal, \n",
    "                                  order=n)[0]][column_label]\n",
    "df['max'] = df.iloc[argrelextrema(df[column_label].values, \n",
    "                                  np.greater_equal, \n",
    "                                  order=n)[0]][column_label]\n",
    "\n",
    "# Plot results\n",
    "plt.scatter(df.index, df['min'], c='r')\n",
    "plt.scatter(df.index, df['max'], c='g')\n",
    "plt.plot(df.index, df[column_label]);"
   ]
  },
  {
   "cell_type": "markdown",
   "metadata": {},
   "source": [
    "## Interpolate Data"
   ]
  },
  {
   "cell_type": "code",
   "execution_count": 62,
   "metadata": {},
   "outputs": [
    {
     "name": "stdout",
     "output_type": "stream",
     "text": [
      "Data points: 1113\n"
     ]
    },
    {
     "data": {
      "image/png": "[encoded data removed]",
      "text/plain": [
       "<Figure size 432x288 with 1 Axes>"
      ]
     },
     "metadata": {
      "needs_background": "light"
     },
     "output_type": "display_data"
    }
   ],
   "source": [
    "# Number of data points to be used for the RAMP.\n",
    "n=30 \n",
    "\n",
    "# Set DataFrame and desired column.\n",
    "df = cone_data\n",
    "column_label_x = 'Time (s)'\n",
    "column_label_y = 'HRR (kW/m2)'\n",
    "\n",
    "data_points = len(df[column_label_y])\n",
    "print('Data points: {}'.format(data_points))\n",
    "\n",
    "# Calculate the new x values to be used for the interpolation.\n",
    "x_vals = np.linspace(0, data_points, n, endpoint=True)\n",
    "\n",
    "# Interpolate the data series based on the new x-values.\n",
    "# Incorporate the last data point (df.tail(1)).\n",
    "interpolated_y = np.interp(x=x_vals,\n",
    "                           xp=df[column_label_x],\n",
    "                           fp=df[column_label_y], \n",
    "                           right=df[column_label_y].tail(1))\n",
    "\n",
    "# Plot results\n",
    "plt.scatter(x_vals, interpolated_y, c='g')\n",
    "plt.plot(df[column_label_x], df[column_label_y]);"
   ]
  },
  {
   "cell_type": "code",
   "execution_count": null,
   "metadata": {},
   "outputs": [],
   "source": []
  },
  {
   "cell_type": "markdown",
   "metadata": {},
   "source": [
    "# Create RAMP Input"
   ]
  },
  {
   "cell_type": "code",
   "execution_count": null,
   "metadata": {},
   "outputs": [],
   "source": []
  },
  {
   "cell_type": "code",
   "execution_count": null,
   "metadata": {},
   "outputs": [],
   "source": []
  },
  {
   "cell_type": "code",
   "execution_count": null,
   "metadata": {},
   "outputs": [],
   "source": []
  },
  {
   "cell_type": "code",
   "execution_count": null,
   "metadata": {},
   "outputs": [],
   "source": []
  },
  {
   "cell_type": "code",
   "execution_count": null,
   "metadata": {},
   "outputs": [],
   "source": []
  },
  {
   "cell_type": "code",
   "execution_count": null,
   "metadata": {},
   "outputs": [],
   "source": []
  },
  {
   "cell_type": "code",
   "execution_count": null,
   "metadata": {},
   "outputs": [],
   "source": []
  },
  {
   "cell_type": "code",
   "execution_count": null,
   "metadata": {},
   "outputs": [],
   "source": []
  },
  {
   "cell_type": "code",
   "execution_count": null,
   "metadata": {},
   "outputs": [],
   "source": []
  },
  {
   "cell_type": "code",
   "execution_count": null,
   "metadata": {},
   "outputs": [],
   "source": []
  },
  {
   "cell_type": "code",
   "execution_count": null,
   "metadata": {},
   "outputs": [],
   "source": []
  },
  {
   "cell_type": "code",
   "execution_count": null,
   "metadata": {},
   "outputs": [],
   "source": []
  },
  {
   "cell_type": "code",
   "execution_count": null,
   "metadata": {},
   "outputs": [],
   "source": []
  },
  {
   "cell_type": "code",
   "execution_count": null,
   "metadata": {},
   "outputs": [],
   "source": []
  },
  {
   "cell_type": "code",
   "execution_count": null,
   "metadata": {},
   "outputs": [],
   "source": []
  },
  {
   "cell_type": "code",
   "execution_count": null,
   "metadata": {},
   "outputs": [],
   "source": []
  },
  {
   "cell_type": "code",
   "execution_count": null,
   "metadata": {},
   "outputs": [],
   "source": []
  },
  {
   "cell_type": "code",
   "execution_count": null,
   "metadata": {},
   "outputs": [],
   "source": []
  },
  {
   "cell_type": "code",
   "execution_count": null,
   "metadata": {},
   "outputs": [],
   "source": []
  },
  {
   "cell_type": "code",
   "execution_count": null,
   "metadata": {},
   "outputs": [],
   "source": []
  },
  {
   "cell_type": "code",
   "execution_count": null,
   "metadata": {},
   "outputs": [],
   "source": []
  }
 ],
 "metadata": {
  "kernelspec": {
   "display_name": "Python 3",
   "language": "python",
   "name": "python3"
  },
  "language_info": {
   "codemirror_mode": {
    "name": "ipython",
    "version": 3
   },
   "file_extension": ".py",
   "mimetype": "text/x-python",
   "name": "python",
   "nbconvert_exporter": "python",
   "pygments_lexer": "ipython3",
   "version": "3.6.8"
  }
 },
 "nbformat": 4,
 "nbformat_minor": 2
}
