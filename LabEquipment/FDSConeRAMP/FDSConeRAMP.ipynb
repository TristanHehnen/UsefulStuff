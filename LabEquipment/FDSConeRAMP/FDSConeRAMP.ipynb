{
 "cells": [
  {
   "cell_type": "code",
   "execution_count": 3,
   "metadata": {},
   "outputs": [],
   "source": [
    "import os\n",
    "import subprocess\n",
    "import sys\n",
    "import pickle\n",
    "import copy\n",
    "import math\n",
    "import scipy\n",
    "\n",
    "import pandas as pd\n",
    "import numpy as np\n",
    "# import seaborn as sns\n",
    "import matplotlib\n",
    "import matplotlib.pyplot as plt\n",
    "import matplotlib.ticker as ticker\n",
    "# plt.rc('text', usetex=True)\n",
    "import multiprocessing as mp\n",
    "\n",
    "from scipy.signal import savgol_filter as savgol\n",
    "from scipy.signal import argrelextrema\n",
    "from scipy.interpolate import interp1d\n",
    "from matplotlib import gridspec\n",
    "from importlib import reload\n",
    "\n",
    "# sns.set(style=\"darkgrid\")\n",
    "%matplotlib inline\n",
    "\n",
    "# sys.path.insert(0, 'D:\\Git')\n",
    "# sys.path.insert(0, '/home/tristan/git/')\n",
    "# from FDSInput.data_structures import FDSMESH\n",
    "# from FDSInput.data_structures import FDSOBST\n",
    "# from FDSInput.data_structures import FDSSURF\n",
    "# from FDSInput.data_structures import FDSMATL\n",
    "\n",
    "# from UsefulStuff.UsefulStuffPython import plot_exp_mod_sim\n",
    "\n",
    "\n",
    "# sys.path.insert(0, '../GeneralInformation/')\n",
    "# from SimHandling import exchange_placeholder\n",
    "# from SimHandling import save_file\n",
    "# from SimHandling import run_job\n",
    "# from SimHandling import box_plot\n",
    "# from SimHandling import plot_exp_mod_sim\n",
    "\n",
    "# from RunFDSJobs import run_job_mp\n",
    "\n",
    "# import GeneralSimInfo as GSI\n",
    "# reload(GSI)"
   ]
  },
  {
   "cell_type": "code",
   "execution_count": 4,
   "metadata": {},
   "outputs": [
    {
     "name": "stdout",
     "output_type": "stream",
     "text": [
      "Package Versions\n",
      "----------------\n",
      "Pandas version: 0.24.1\n",
      "Numpy version: 1.15.4\n",
      "Matplotlib version: 3.0.2\n",
      "SciPy version: 1.2.1\n"
     ]
    }
   ],
   "source": [
    "print('Package Versions')\n",
    "print('----------------')\n",
    "print('Pandas version: {}'.format(pd.__version__))\n",
    "print('Numpy version: {}'.format(np.__version__))\n",
    "print('Matplotlib version: {}'.format(matplotlib.__version__))\n",
    "print('SciPy version: {}'.format(scipy.__version__))"
   ]
  },
  {
   "cell_type": "code",
   "execution_count": 5,
   "metadata": {},
   "outputs": [
    {
     "name": "stdout",
     "output_type": "stream",
     "text": [
      "D:\\Git\\UsefulStuff\\LabEquipment\\FDSConeRAMP\n"
     ]
    }
   ],
   "source": [
    "cwd = os.getcwd()\n",
    "print(cwd)"
   ]
  },
  {
   "cell_type": "markdown",
   "metadata": {},
   "source": [
    "# General Information"
   ]
  },
  {
   "cell_type": "code",
   "execution_count": 6,
   "metadata": {},
   "outputs": [],
   "source": [
    "cone_file = os.path.join('..', 'ConeFTT', 'ExperimentalData', \n",
    "                         'ConeExtract.csv')"
   ]
  },
  {
   "cell_type": "markdown",
   "metadata": {},
   "source": [
    "# Read Cone Data"
   ]
  },
  {
   "cell_type": "code",
   "execution_count": 7,
   "metadata": {},
   "outputs": [
    {
     "data": {
      "text/html": [
       "<div>\n",
       "<style scoped>\n",
       "    .dataframe tbody tr th:only-of-type {\n",
       "        vertical-align: middle;\n",
       "    }\n",
       "\n",
       "    .dataframe tbody tr th {\n",
       "        vertical-align: top;\n",
       "    }\n",
       "\n",
       "    .dataframe thead th {\n",
       "        text-align: right;\n",
       "    }\n",
       "</style>\n",
       "<table border=\"1\" class=\"dataframe\">\n",
       "  <thead>\n",
       "    <tr style=\"text-align: right;\">\n",
       "      <th></th>\n",
       "      <th>Time (s)</th>\n",
       "      <th>HRR (kW/m2)</th>\n",
       "      <th>MLR (g/s)</th>\n",
       "      <th>Specimen mass (g)</th>\n",
       "    </tr>\n",
       "  </thead>\n",
       "  <tbody>\n",
       "    <tr>\n",
       "      <th>0</th>\n",
       "      <td>0</td>\n",
       "      <td>1.004885</td>\n",
       "      <td>0.888066</td>\n",
       "      <td>106.400000</td>\n",
       "    </tr>\n",
       "    <tr>\n",
       "      <th>1</th>\n",
       "      <td>1</td>\n",
       "      <td>0.821132</td>\n",
       "      <td>-0.501073</td>\n",
       "      <td>106.414472</td>\n",
       "    </tr>\n",
       "    <tr>\n",
       "      <th>2</th>\n",
       "      <td>2</td>\n",
       "      <td>0.578730</td>\n",
       "      <td>-0.171946</td>\n",
       "      <td>106.829391</td>\n",
       "    </tr>\n",
       "    <tr>\n",
       "      <th>3</th>\n",
       "      <td>3</td>\n",
       "      <td>0.486264</td>\n",
       "      <td>0.130683</td>\n",
       "      <td>106.703843</td>\n",
       "    </tr>\n",
       "    <tr>\n",
       "      <th>4</th>\n",
       "      <td>4</td>\n",
       "      <td>0.344294</td>\n",
       "      <td>0.071574</td>\n",
       "      <td>106.651622</td>\n",
       "    </tr>\n",
       "  </tbody>\n",
       "</table>\n",
       "</div>"
      ],
      "text/plain": [
       "   Time (s)  HRR (kW/m2)  MLR (g/s)  Specimen mass (g)\n",
       "0         0     1.004885   0.888066         106.400000\n",
       "1         1     0.821132  -0.501073         106.414472\n",
       "2         2     0.578730  -0.171946         106.829391\n",
       "3         3     0.486264   0.130683         106.703843\n",
       "4         4     0.344294   0.071574         106.651622"
      ]
     },
     "execution_count": 7,
     "metadata": {},
     "output_type": "execute_result"
    }
   ],
   "source": [
    "cone_data = pd.read_csv(cone_file)\n",
    "cone_data.head()"
   ]
  },
  {
   "cell_type": "code",
   "execution_count": 8,
   "metadata": {},
   "outputs": [
    {
     "data": {
      "text/plain": [
       "[<matplotlib.lines.Line2D at 0x22d34c680f0>]"
      ]
     },
     "execution_count": 8,
     "metadata": {},
     "output_type": "execute_result"
    },
    {
     "data": {
      "image/png": "[encoded data removed]",
      "text/plain": [
       "<Figure size 432x288 with 1 Axes>"
      ]
     },
     "metadata": {
      "needs_background": "light"
     },
     "output_type": "display_data"
    }
   ],
   "source": [
    "plt.plot(cone_data['Time (s)'],\n",
    "         cone_data['HRR (kW/m2)'])"
   ]
  },
  {
   "cell_type": "markdown",
   "metadata": {},
   "source": [
    "# Process Data"
   ]
  },
  {
   "cell_type": "markdown",
   "metadata": {},
   "source": [
    "## Find Local Extrema"
   ]
  },
  {
   "cell_type": "code",
   "execution_count": 9,
   "metadata": {},
   "outputs": [
    {
     "data": {
      "image/png": "[encoded data removed]",
      "text/plain": [
       "<Figure size 432x288 with 1 Axes>"
      ]
     },
     "metadata": {
      "needs_background": "light"
     },
     "output_type": "display_data"
    }
   ],
   "source": [
    "# Adopted from: \n",
    "# https://stackoverflow.com/questions/48023982/pandas-finding-local-max-and-min?rq=1\n",
    "\n",
    "# number of points to be checked before and after \n",
    "n=40 \n",
    "\n",
    "# Set DataFrame and desired column.\n",
    "df = cone_data\n",
    "column_label = 'HRR (kW/m2)'\n",
    "\n",
    "# Find local peaks\n",
    "df['min'] = df.iloc[argrelextrema(df[column_label].values, \n",
    "                                  np.less_equal, \n",
    "                                  order=n)[0]][column_label]\n",
    "df['max'] = df.iloc[argrelextrema(df[column_label].values, \n",
    "                                  np.greater_equal, \n",
    "                                  order=n)[0]][column_label]\n",
    "\n",
    "# Plot results\n",
    "plt.scatter(df.index, df['min'], c='r')\n",
    "plt.scatter(df.index, df['max'], c='g')\n",
    "plt.plot(df.index, df[column_label]);"
   ]
  },
  {
   "cell_type": "markdown",
   "metadata": {},
   "source": [
    "## Interpolate Data"
   ]
  },
  {
   "cell_type": "code",
   "execution_count": 10,
   "metadata": {},
   "outputs": [
    {
     "name": "stdout",
     "output_type": "stream",
     "text": [
      "Data points: 1113\n"
     ]
    },
    {
     "data": {
      "image/png": "[encoded data removed]",
      "text/plain": [
       "<Figure size 432x288 with 1 Axes>"
      ]
     },
     "metadata": {
      "needs_background": "light"
     },
     "output_type": "display_data"
    }
   ],
   "source": [
    "# Number of data points to be used for the RAMP.\n",
    "n=30 \n",
    "\n",
    "# Set DataFrame and desired column.\n",
    "df = cone_data\n",
    "column_label_x = 'Time (s)'\n",
    "column_label_y = 'HRR (kW/m2)'\n",
    "\n",
    "data_points = len(df[column_label_y])\n",
    "print('Data points: {}'.format(data_points))\n",
    "\n",
    "# Calculate the new x values to be used for the interpolation.\n",
    "x_vals = np.linspace(0, data_points, n, endpoint=True)\n",
    "\n",
    "# Interpolate the data series based on the new x-values.\n",
    "# Incorporate the last data point (df.tail(1)).\n",
    "interpolated_y = np.interp(x=x_vals,\n",
    "                           xp=df[column_label_x],\n",
    "                           fp=df[column_label_y], \n",
    "                           right=df[column_label_y].tail(1))\n",
    "\n",
    "# Plot results\n",
    "plt.scatter(x_vals, interpolated_y, c='g')\n",
    "plt.plot(df[column_label_x], df[column_label_y]);"
   ]
  },
  {
   "cell_type": "code",
   "execution_count": null,
   "metadata": {},
   "outputs": [],
   "source": []
  },
  {
   "cell_type": "markdown",
   "metadata": {},
   "source": [
    "# Create RAMP Input"
   ]
  },
  {
   "cell_type": "code",
   "execution_count": 11,
   "metadata": {},
   "outputs": [],
   "source": []
  },
  {
   "cell_type": "code",
   "execution_count": 13,
   "metadata": {},
   "outputs": [
    {
     "data": {
      "text/plain": [
       "224.093411120374"
      ]
     },
     "execution_count": 13,
     "metadata": {},
     "output_type": "execute_result"
    }
   ],
   "source": [
    "hrrpua_max = cone_data['HRR (kW/m2)'].max()\n",
    "hrrpua_max"
   ]
  },
  {
   "cell_type": "code",
   "execution_count": 14,
   "metadata": {},
   "outputs": [],
   "source": [
    "def create_hrrpua_ramp(surf_id, hrrpua, time, function_value, ramp_id=None,\n",
    "                       spec_id='PROPANE', color='RASPBERRY', ignition_temp=None):\n",
    "    # Nuclei for the input lines.\n",
    "    hrrpua_surf_nucleus = \"&SURF ID='{}', SPEC_ID(1)='{}', HRRPUA={}, COLOR='{}', RAMP_Q='{}'{}/\"\n",
    "    ramp_nucleus = \"&RAMP ID='{}', T={}, F={}/\"\n",
    "    ignition_nucleus = \", IGNITION_TEMPERATURE = {} \"\n",
    "    \n",
    "    # Initialise list to store the input lines.\n",
    "    input_lines=list()\n",
    "    \n",
    "    # Check if ignition temperature was provided.\n",
    "    if ignition_temp is None:\n",
    "        ignition_temp=' '\n",
    "    \n",
    "    # Check if RAMP_ID was provided.\n",
    "    if ramp_id is None:\n",
    "        ramp_id = 'BURNER_RAMP'\n",
    "        \n",
    "    # Build SURF input line.\n",
    "    hrrpua_surf = hrrpua_surf_nucleus.format(surf_id, spec_id, hrrpua, color, ramp_id, ignition_temp)\n",
    "    input_lines.append(hrrpua_surf)\n",
    "    input_lines.append('')\n",
    "    input_lines.append('')\n",
    "    input_lines.append('')\n",
    "    \n",
    "    # Build the RAMP input lines.\n",
    "    for id_time, time_val in enumerate(time):\n",
    "        f_val = function_value[id_time] / hrrpua\n",
    "        ramp_line = ramp_nucleus.format(ramp_id, time_val, f_val)\n",
    "        input_lines.append(ramp_line)\n",
    "        \n",
    "    \n",
    "    # Return the list of input lines.\n",
    "    return input_lines"
   ]
  },
  {
   "cell_type": "code",
   "execution_count": 16,
   "metadata": {},
   "outputs": [],
   "source": [
    "ramp_input = create_hrrpua_ramp(surf_id='BURNER', hrrpua=hrrpua_max, time=x_vals, \n",
    "                                function_value=interpolated_y, ramp_id=None,\n",
    "                                spec_id='PROPANE', color='RASPBERRY', ignition_temp=None)"
   ]
  },
  {
   "cell_type": "code",
   "execution_count": 17,
   "metadata": {},
   "outputs": [
    {
     "name": "stdout",
     "output_type": "stream",
     "text": [
      "&SURF ID='BURNER', SPEC_ID(1)='PROPANE', HRRPUA=224.093411120374, COLOR='RASPBERRY', RAMP_Q='BURNER_RAMP' /\n",
      "\n",
      "\n",
      "\n",
      "&RAMP ID='BURNER_RAMP', T=0.0, F=0.0044842220111413105/\n",
      "&RAMP ID='BURNER_RAMP', T=38.37931034482759, F=0.011184400722677845/\n",
      "&RAMP ID='BURNER_RAMP', T=76.75862068965517, F=0.10118093527143487/\n",
      "&RAMP ID='BURNER_RAMP', T=115.13793103448276, F=0.3970143962254664/\n",
      "&RAMP ID='BURNER_RAMP', T=153.51724137931035, F=0.4062699141500272/\n",
      "&RAMP ID='BURNER_RAMP', T=191.89655172413794, F=0.3735974553972969/\n",
      "&RAMP ID='BURNER_RAMP', T=230.27586206896552, F=0.3233073126412962/\n",
      "&RAMP ID='BURNER_RAMP', T=268.65517241379314, F=0.2994635080021613/\n",
      "&RAMP ID='BURNER_RAMP', T=307.0344827586207, F=0.28781718965485614/\n",
      "&RAMP ID='BURNER_RAMP', T=345.41379310344826, F=0.43103366762792517/\n",
      "&RAMP ID='BURNER_RAMP', T=383.7931034482759, F=0.668434961999287/\n",
      "&RAMP ID='BURNER_RAMP', T=422.1724137931035, F=0.7792641860094376/\n",
      "&RAMP ID='BURNER_RAMP', T=460.55172413793105, F=0.7639009227028192/\n",
      "&RAMP ID='BURNER_RAMP', T=498.9310344827586, F=0.7522482350106635/\n",
      "&RAMP ID='BURNER_RAMP', T=537.3103448275863, F=0.8739201845106478/\n",
      "&RAMP ID='BURNER_RAMP', T=575.6896551724138, F=0.96119817756202/\n",
      "&RAMP ID='BURNER_RAMP', T=614.0689655172414, F=0.9383443043471369/\n",
      "&RAMP ID='BURNER_RAMP', T=652.448275862069, F=0.7456792364044106/\n",
      "&RAMP ID='BURNER_RAMP', T=690.8275862068965, F=0.6076441940411118/\n",
      "&RAMP ID='BURNER_RAMP', T=729.2068965517242, F=0.45801234765768406/\n",
      "&RAMP ID='BURNER_RAMP', T=767.5862068965517, F=0.3476411054436648/\n",
      "&RAMP ID='BURNER_RAMP', T=805.9655172413793, F=0.2496351969578941/\n",
      "&RAMP ID='BURNER_RAMP', T=844.344827586207, F=0.199425436735651/\n",
      "&RAMP ID='BURNER_RAMP', T=882.7241379310345, F=0.15813159884285646/\n",
      "&RAMP ID='BURNER_RAMP', T=921.1034482758621, F=0.10403013410605658/\n",
      "&RAMP ID='BURNER_RAMP', T=959.4827586206897, F=0.08480319251779174/\n",
      "&RAMP ID='BURNER_RAMP', T=997.8620689655172, F=0.06426680284855138/\n",
      "&RAMP ID='BURNER_RAMP', T=1036.2413793103449, F=0.06052365239948616/\n",
      "&RAMP ID='BURNER_RAMP', T=1074.6206896551726, F=0.052258207137319865/\n",
      "&RAMP ID='BURNER_RAMP', T=1113.0, F=0.057148777728945256/\n"
     ]
    }
   ],
   "source": [
    "for line in ramp_input:\n",
    "    print(line)"
   ]
  },
  {
   "cell_type": "code",
   "execution_count": null,
   "metadata": {},
   "outputs": [],
   "source": []
  },
  {
   "cell_type": "markdown",
   "metadata": {},
   "source": [
    "# Check Result"
   ]
  },
  {
   "cell_type": "code",
   "execution_count": 21,
   "metadata": {},
   "outputs": [
    {
     "data": {
      "text/html": [
       "<div>\n",
       "<style scoped>\n",
       "    .dataframe tbody tr th:only-of-type {\n",
       "        vertical-align: middle;\n",
       "    }\n",
       "\n",
       "    .dataframe tbody tr th {\n",
       "        vertical-align: top;\n",
       "    }\n",
       "\n",
       "    .dataframe thead th {\n",
       "        text-align: right;\n",
       "    }\n",
       "</style>\n",
       "<table border=\"1\" class=\"dataframe\">\n",
       "  <thead>\n",
       "    <tr style=\"text-align: right;\">\n",
       "      <th></th>\n",
       "      <th>Time</th>\n",
       "      <th>HRR</th>\n",
       "      <th>Q_RADI</th>\n",
       "      <th>Q_CONV</th>\n",
       "      <th>Q_COND</th>\n",
       "      <th>Q_DIFF</th>\n",
       "      <th>Q_PRES</th>\n",
       "      <th>Q_PART</th>\n",
       "      <th>Q_GEOM</th>\n",
       "      <th>Q_ENTH</th>\n",
       "      <th>Q_TOTAL</th>\n",
       "      <th>MLR_FUEL</th>\n",
       "      <th>MLR_TOTAL</th>\n",
       "    </tr>\n",
       "  </thead>\n",
       "  <tbody>\n",
       "    <tr>\n",
       "      <th>0</th>\n",
       "      <td>0.000000</td>\n",
       "      <td>0.000000</td>\n",
       "      <td>0.000000</td>\n",
       "      <td>1.647987e-20</td>\n",
       "      <td>0.000000</td>\n",
       "      <td>0.000000e+00</td>\n",
       "      <td>0.0</td>\n",
       "      <td>0.0</td>\n",
       "      <td>0.0</td>\n",
       "      <td>0.000000</td>\n",
       "      <td>1.647987e-20</td>\n",
       "      <td>0.000000e+00</td>\n",
       "      <td>0.000000e+00</td>\n",
       "    </tr>\n",
       "    <tr>\n",
       "      <th>1</th>\n",
       "      <td>2.000000</td>\n",
       "      <td>0.004461</td>\n",
       "      <td>-0.000184</td>\n",
       "      <td>7.125701e-05</td>\n",
       "      <td>-0.000029</td>\n",
       "      <td>-7.243323e-07</td>\n",
       "      <td>0.0</td>\n",
       "      <td>0.0</td>\n",
       "      <td>0.0</td>\n",
       "      <td>0.000691</td>\n",
       "      <td>4.317867e-03</td>\n",
       "      <td>2.290921e-07</td>\n",
       "      <td>2.290921e-07</td>\n",
       "    </tr>\n",
       "    <tr>\n",
       "      <th>2</th>\n",
       "      <td>2.689847</td>\n",
       "      <td>0.027605</td>\n",
       "      <td>-0.001641</td>\n",
       "      <td>4.301650e-04</td>\n",
       "      <td>-0.000534</td>\n",
       "      <td>-7.547775e-07</td>\n",
       "      <td>0.0</td>\n",
       "      <td>0.0</td>\n",
       "      <td>0.0</td>\n",
       "      <td>0.022930</td>\n",
       "      <td>2.585910e-02</td>\n",
       "      <td>2.384744e-07</td>\n",
       "      <td>2.384744e-07</td>\n",
       "    </tr>\n",
       "    <tr>\n",
       "      <th>3</th>\n",
       "      <td>3.614475</td>\n",
       "      <td>0.017027</td>\n",
       "      <td>-0.001792</td>\n",
       "      <td>2.450122e-04</td>\n",
       "      <td>-0.000564</td>\n",
       "      <td>-7.789707e-07</td>\n",
       "      <td>0.0</td>\n",
       "      <td>0.0</td>\n",
       "      <td>0.0</td>\n",
       "      <td>0.016323</td>\n",
       "      <td>1.491551e-02</td>\n",
       "      <td>2.439230e-07</td>\n",
       "      <td>2.439230e-07</td>\n",
       "    </tr>\n",
       "    <tr>\n",
       "      <th>4</th>\n",
       "      <td>4.870468</td>\n",
       "      <td>0.015445</td>\n",
       "      <td>-0.001375</td>\n",
       "      <td>-8.921898e-03</td>\n",
       "      <td>-0.000400</td>\n",
       "      <td>-8.058583e-07</td>\n",
       "      <td>0.0</td>\n",
       "      <td>0.0</td>\n",
       "      <td>0.0</td>\n",
       "      <td>0.005414</td>\n",
       "      <td>4.746957e-03</td>\n",
       "      <td>2.531348e-07</td>\n",
       "      <td>2.531348e-07</td>\n",
       "    </tr>\n",
       "  </tbody>\n",
       "</table>\n",
       "</div>"
      ],
      "text/plain": [
       "       Time       HRR    Q_RADI        Q_CONV    Q_COND        Q_DIFF  Q_PRES  \\\n",
       "0  0.000000  0.000000  0.000000  1.647987e-20  0.000000  0.000000e+00     0.0   \n",
       "1  2.000000  0.004461 -0.000184  7.125701e-05 -0.000029 -7.243323e-07     0.0   \n",
       "2  2.689847  0.027605 -0.001641  4.301650e-04 -0.000534 -7.547775e-07     0.0   \n",
       "3  3.614475  0.017027 -0.001792  2.450122e-04 -0.000564 -7.789707e-07     0.0   \n",
       "4  4.870468  0.015445 -0.001375 -8.921898e-03 -0.000400 -8.058583e-07     0.0   \n",
       "\n",
       "   Q_PART  Q_GEOM    Q_ENTH       Q_TOTAL      MLR_FUEL     MLR_TOTAL  \n",
       "0     0.0     0.0  0.000000  1.647987e-20  0.000000e+00  0.000000e+00  \n",
       "1     0.0     0.0  0.000691  4.317867e-03  2.290921e-07  2.290921e-07  \n",
       "2     0.0     0.0  0.022930  2.585910e-02  2.384744e-07  2.384744e-07  \n",
       "3     0.0     0.0  0.016323  1.491551e-02  2.439230e-07  2.439230e-07  \n",
       "4     0.0     0.0  0.005414  4.746957e-03  2.531348e-07  2.531348e-07  "
      ]
     },
     "execution_count": 21,
     "metadata": {},
     "output_type": "execute_result"
    }
   ],
   "source": [
    "fds_hrr_file = os.path.join('ConePaintTest_hrr.csv')\n",
    "\n",
    "fds_hrr_df = pd.read_csv(fds_hrr_file, header=1)\n",
    "fds_hrr_df.head()"
   ]
  },
  {
   "cell_type": "code",
   "execution_count": 38,
   "metadata": {},
   "outputs": [
    {
     "data": {
      "image/png": "[encoded data removed]",
      "text/plain": [
       "<Figure size 432x288 with 1 Axes>"
      ]
     },
     "metadata": {
      "needs_background": "light"
     },
     "output_type": "display_data"
    }
   ],
   "source": [
    "# Plot results\n",
    "plt.plot(df[column_label_x], \n",
    "         df[column_label_y], c='k',\n",
    "         label='Exp')\n",
    "plt.scatter(x_vals, interpolated_y, \n",
    "            c='r', label='RAMP')\n",
    "plt.plot(fds_hrr_df.Time,\n",
    "         fds_hrr_df.HRR/(0.1**2), \n",
    "         linestyle='dashed',\n",
    "         label='FDS');\n",
    "\n",
    "plt.legend()\n",
    "\n",
    "# plt.title('Energy Release Rate per Unit Area')\n",
    "plt.xlabel('Time in s')\n",
    "plt.ylabel('Energy Release Rate per Unit Area in kW/m²');"
   ]
  },
  {
   "cell_type": "code",
   "execution_count": null,
   "metadata": {},
   "outputs": [],
   "source": []
  },
  {
   "cell_type": "code",
   "execution_count": null,
   "metadata": {},
   "outputs": [],
   "source": []
  },
  {
   "cell_type": "code",
   "execution_count": null,
   "metadata": {},
   "outputs": [],
   "source": []
  },
  {
   "cell_type": "code",
   "execution_count": null,
   "metadata": {},
   "outputs": [],
   "source": []
  },
  {
   "cell_type": "code",
   "execution_count": null,
   "metadata": {},
   "outputs": [],
   "source": []
  },
  {
   "cell_type": "code",
   "execution_count": null,
   "metadata": {},
   "outputs": [],
   "source": []
  },
  {
   "cell_type": "code",
   "execution_count": null,
   "metadata": {},
   "outputs": [],
   "source": []
  },
  {
   "cell_type": "code",
   "execution_count": null,
   "metadata": {},
   "outputs": [],
   "source": []
  },
  {
   "cell_type": "code",
   "execution_count": null,
   "metadata": {},
   "outputs": [],
   "source": []
  },
  {
   "cell_type": "code",
   "execution_count": null,
   "metadata": {},
   "outputs": [],
   "source": []
  },
  {
   "cell_type": "code",
   "execution_count": null,
   "metadata": {},
   "outputs": [],
   "source": []
  },
  {
   "cell_type": "code",
   "execution_count": null,
   "metadata": {},
   "outputs": [],
   "source": []
  }
 ],
 "metadata": {
  "kernelspec": {
   "display_name": "Python 3",
   "language": "python",
   "name": "python3"
  },
  "language_info": {
   "codemirror_mode": {
    "name": "ipython",
    "version": 3
   },
   "file_extension": ".py",
   "mimetype": "text/x-python",
   "name": "python",
   "nbconvert_exporter": "python",
   "pygments_lexer": "ipython3",
   "version": "3.6.8"
  }
 },
 "nbformat": 4,
 "nbformat_minor": 2
}
