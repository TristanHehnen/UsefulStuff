{
 "cells": [
  {
   "cell_type": "code",
   "execution_count": 1,
   "metadata": {},
   "outputs": [],
   "source": [
    "import os\n",
    "import subprocess\n",
    "import sys\n",
    "import pickle\n",
    "import copy\n",
    "import math\n",
    "import scipy\n",
    "\n",
    "import pandas as pd\n",
    "import numpy as np\n",
    "# import seaborn as sns\n",
    "import matplotlib\n",
    "import matplotlib.pyplot as plt\n",
    "import matplotlib.ticker as ticker\n",
    "# plt.rc('text', usetex=True)\n",
    "import multiprocessing as mp\n",
    "\n",
    "from scipy.signal import savgol_filter as savgol\n",
    "from scipy.signal import argrelextrema\n",
    "from scipy.interpolate import interp1d\n",
    "from matplotlib import gridspec\n",
    "from importlib import reload\n",
    "\n",
    "# sns.set(style=\"darkgrid\")\n",
    "%matplotlib inline\n",
    "\n",
    "# sys.path.insert(0, 'D:\\Git')\n",
    "# sys.path.insert(0, '/home/tristan/git/')\n",
    "# from FDSInput.data_structures import FDSMESH\n",
    "# from FDSInput.data_structures import FDSOBST\n",
    "# from FDSInput.data_structures import FDSSURF\n",
    "# from FDSInput.data_structures import FDSMATL\n",
    "\n",
    "# from UsefulStuff.UsefulStuffPython import plot_exp_mod_sim\n",
    "\n",
    "\n",
    "# sys.path.insert(0, '../GeneralInformation/')\n",
    "# from SimHandling import exchange_placeholder\n",
    "# from SimHandling import save_file\n",
    "# from SimHandling import run_job\n",
    "# from SimHandling import box_plot\n",
    "# from SimHandling import plot_exp_mod_sim\n",
    "\n",
    "# from RunFDSJobs import run_job_mp\n",
    "\n",
    "# import GeneralSimInfo as GSI\n",
    "# reload(GSI)"
   ]
  },
  {
   "cell_type": "code",
   "execution_count": 2,
   "metadata": {},
   "outputs": [
    {
     "name": "stdout",
     "output_type": "stream",
     "text": [
      "Package Versions\n",
      "----------------\n",
      "Pandas version: 0.24.1\n",
      "Numpy version: 1.15.4\n",
      "Matplotlib version: 3.0.2\n",
      "SciPy version: 1.2.1\n"
     ]
    }
   ],
   "source": [
    "print('Package Versions')\n",
    "print('----------------')\n",
    "print('Pandas version: {}'.format(pd.__version__))\n",
    "print('Numpy version: {}'.format(np.__version__))\n",
    "print('Matplotlib version: {}'.format(matplotlib.__version__))\n",
    "print('SciPy version: {}'.format(scipy.__version__))"
   ]
  },
  {
   "cell_type": "code",
   "execution_count": 3,
   "metadata": {},
   "outputs": [
    {
     "name": "stdout",
     "output_type": "stream",
     "text": [
      "D:\\Git\\UsefulStuff\\LabEquipment\\FDSConeRAMP\n"
     ]
    }
   ],
   "source": [
    "cwd = os.getcwd()\n",
    "print(cwd)"
   ]
  },
  {
   "cell_type": "markdown",
   "metadata": {},
   "source": [
    "# General Information"
   ]
  },
  {
   "cell_type": "code",
   "execution_count": 4,
   "metadata": {},
   "outputs": [],
   "source": [
    "cone_file = os.path.join('..', 'ConeFTT', 'ExperimentalData', \n",
    "                         'ConeExtract.csv')"
   ]
  },
  {
   "cell_type": "markdown",
   "metadata": {},
   "source": [
    "# Read Cone Data"
   ]
  },
  {
   "cell_type": "code",
   "execution_count": 5,
   "metadata": {},
   "outputs": [
    {
     "data": {
      "text/html": [
       "<div>\n",
       "<style scoped>\n",
       "    .dataframe tbody tr th:only-of-type {\n",
       "        vertical-align: middle;\n",
       "    }\n",
       "\n",
       "    .dataframe tbody tr th {\n",
       "        vertical-align: top;\n",
       "    }\n",
       "\n",
       "    .dataframe thead th {\n",
       "        text-align: right;\n",
       "    }\n",
       "</style>\n",
       "<table border=\"1\" class=\"dataframe\">\n",
       "  <thead>\n",
       "    <tr style=\"text-align: right;\">\n",
       "      <th></th>\n",
       "      <th>Time (s)</th>\n",
       "      <th>HRR (kW/m2)</th>\n",
       "      <th>MLR (g/s)</th>\n",
       "      <th>Specimen mass (g)</th>\n",
       "    </tr>\n",
       "  </thead>\n",
       "  <tbody>\n",
       "    <tr>\n",
       "      <th>0</th>\n",
       "      <td>0</td>\n",
       "      <td>1.004885</td>\n",
       "      <td>0.888066</td>\n",
       "      <td>106.400000</td>\n",
       "    </tr>\n",
       "    <tr>\n",
       "      <th>1</th>\n",
       "      <td>1</td>\n",
       "      <td>0.821132</td>\n",
       "      <td>-0.501073</td>\n",
       "      <td>106.414472</td>\n",
       "    </tr>\n",
       "    <tr>\n",
       "      <th>2</th>\n",
       "      <td>2</td>\n",
       "      <td>0.578730</td>\n",
       "      <td>-0.171946</td>\n",
       "      <td>106.829391</td>\n",
       "    </tr>\n",
       "    <tr>\n",
       "      <th>3</th>\n",
       "      <td>3</td>\n",
       "      <td>0.486264</td>\n",
       "      <td>0.130683</td>\n",
       "      <td>106.703843</td>\n",
       "    </tr>\n",
       "    <tr>\n",
       "      <th>4</th>\n",
       "      <td>4</td>\n",
       "      <td>0.344294</td>\n",
       "      <td>0.071574</td>\n",
       "      <td>106.651622</td>\n",
       "    </tr>\n",
       "  </tbody>\n",
       "</table>\n",
       "</div>"
      ],
      "text/plain": [
       "   Time (s)  HRR (kW/m2)  MLR (g/s)  Specimen mass (g)\n",
       "0         0     1.004885   0.888066         106.400000\n",
       "1         1     0.821132  -0.501073         106.414472\n",
       "2         2     0.578730  -0.171946         106.829391\n",
       "3         3     0.486264   0.130683         106.703843\n",
       "4         4     0.344294   0.071574         106.651622"
      ]
     },
     "execution_count": 5,
     "metadata": {},
     "output_type": "execute_result"
    }
   ],
   "source": [
    "cone_data = pd.read_csv(cone_file)\n",
    "cone_data.head()"
   ]
  },
  {
   "cell_type": "code",
   "execution_count": 6,
   "metadata": {},
   "outputs": [
    {
     "data": {
      "text/plain": [
       "[<matplotlib.lines.Line2D at 0x1ee643bbc88>]"
      ]
     },
     "execution_count": 6,
     "metadata": {},
     "output_type": "execute_result"
    },
    {
     "data": {
      "image/png": "[encoded data removed]",
      "text/plain": [
       "<Figure size 432x288 with 1 Axes>"
      ]
     },
     "metadata": {
      "needs_background": "light"
     },
     "output_type": "display_data"
    }
   ],
   "source": [
    "plt.plot(cone_data['Time (s)'],\n",
    "         cone_data['HRR (kW/m2)'])"
   ]
  },
  {
   "cell_type": "markdown",
   "metadata": {},
   "source": [
    "# Process Data"
   ]
  },
  {
   "cell_type": "markdown",
   "metadata": {},
   "source": [
    "## Find Local Extrema"
   ]
  },
  {
   "cell_type": "code",
   "execution_count": 7,
   "metadata": {},
   "outputs": [
    {
     "data": {
      "image/png": "[encoded data removed]",
      "text/plain": [
       "<Figure size 432x288 with 1 Axes>"
      ]
     },
     "metadata": {
      "needs_background": "light"
     },
     "output_type": "display_data"
    }
   ],
   "source": [
    "# Adopted from: \n",
    "# https://stackoverflow.com/questions/48023982/pandas-finding-local-max-and-min?rq=1\n",
    "\n",
    "# number of points to be checked before and after \n",
    "n=40 \n",
    "\n",
    "# Set DataFrame and desired column.\n",
    "df = cone_data\n",
    "column_label = 'HRR (kW/m2)'\n",
    "\n",
    "# Find local peaks\n",
    "df['min'] = df.iloc[argrelextrema(df[column_label].values, \n",
    "                                  np.less_equal, \n",
    "                                  order=n)[0]][column_label]\n",
    "df['max'] = df.iloc[argrelextrema(df[column_label].values, \n",
    "                                  np.greater_equal, \n",
    "                                  order=n)[0]][column_label]\n",
    "\n",
    "# Plot results\n",
    "plt.scatter(df.index, df['min'], c='r')\n",
    "plt.scatter(df.index, df['max'], c='g')\n",
    "plt.plot(df.index, df[column_label]);"
   ]
  },
  {
   "cell_type": "code",
   "execution_count": null,
   "metadata": {},
   "outputs": [],
   "source": []
  },
  {
   "cell_type": "markdown",
   "metadata": {},
   "source": [
    "## Interpolate Data"
   ]
  },
  {
   "cell_type": "code",
   "execution_count": 8,
   "metadata": {},
   "outputs": [
    {
     "name": "stdout",
     "output_type": "stream",
     "text": [
      "Data points: 1113\n"
     ]
    },
    {
     "data": {
      "image/png": "[encoded data removed]",
      "text/plain": [
       "<Figure size 432x288 with 1 Axes>"
      ]
     },
     "metadata": {
      "needs_background": "light"
     },
     "output_type": "display_data"
    }
   ],
   "source": [
    "# Number of data points to be used for the RAMP.\n",
    "n=30 \n",
    "\n",
    "# Set DataFrame and desired column.\n",
    "df = cone_data\n",
    "column_label_x = 'Time (s)'\n",
    "column_label_y = 'HRR (kW/m2)'\n",
    "\n",
    "data_points = len(df[column_label_y])\n",
    "print('Data points: {}'.format(data_points))\n",
    "\n",
    "# Calculate the new x values to be used for the interpolation.\n",
    "x_vals = np.linspace(0, data_points, n, endpoint=True)\n",
    "\n",
    "# Interpolate the data series based on the new x-values.\n",
    "# Incorporate the last data point (df.tail(1)).\n",
    "interpolated_y = np.interp(x=x_vals,\n",
    "                           xp=df[column_label_x],\n",
    "                           fp=df[column_label_y], \n",
    "                           right=df[column_label_y].tail(1))\n",
    "\n",
    "# Collect new data points in DataFrame.\n",
    "ramp_df = pd.DataFrame({'Time': x_vals,\n",
    "                        'HRR': interpolated_y})\n",
    "\n",
    "# Plot results.\n",
    "plt.scatter(ramp_df.Time, ramp_df.HRR, c='g')\n",
    "plt.plot(df[column_label_x], df[column_label_y]);"
   ]
  },
  {
   "cell_type": "markdown",
   "metadata": {},
   "source": [
    "## Combine Data Points"
   ]
  },
  {
   "cell_type": "code",
   "execution_count": null,
   "metadata": {},
   "outputs": [],
   "source": []
  },
  {
   "cell_type": "code",
   "execution_count": 9,
   "metadata": {},
   "outputs": [],
   "source": [
    "# Get local extrema.\n",
    "local_extrema = [cone_data['min'].notnull(),\n",
    "                 cone_data['max'].notnull()]\n",
    "\n",
    "for extrema in local_extrema:\n",
    "    for id_extr, extremum in enumerate(extrema):\n",
    "        # Find location of extremum.\n",
    "        if extremum:\n",
    "            hrr_val = cone_data.iloc[id_extr]['HRR (kW/m2)']\n",
    "            \n",
    "            # Prevent negative values to be chosen.\n",
    "            if hrr_val < 0:\n",
    "                new_time = cone_data.iloc[id_extr]['Time (s)']\n",
    "                new_hrr = np.float64(0.0)\n",
    "            else:\n",
    "                new_time = cone_data.iloc[id_extr]['Time (s)'] \n",
    "                new_hrr = cone_data.iloc[id_extr]['HRR (kW/m2)']\n",
    "            \n",
    "            # Create DataFrame of new row to be inserted into \n",
    "            # the DataFrame with the interpolated values.\n",
    "            new_row = pd.DataFrame({'Time': new_time,\n",
    "                                    'HRR': new_hrr},\n",
    "                                   index=[0])\n",
    "            \n",
    "            # Add new row into the interpolated DataFrame.\n",
    "            ramp_df = pd.concat([new_row, ramp_df]).reset_index(drop=True)             \n",
    "\n",
    "# Sort DataFrame by the time values.\n",
    "ramp_df = ramp_df.sort_values(by=['Time']).reset_index(drop=True) "
   ]
  },
  {
   "cell_type": "markdown",
   "metadata": {},
   "source": [
    "# Create RAMP Input"
   ]
  },
  {
   "cell_type": "code",
   "execution_count": null,
   "metadata": {},
   "outputs": [],
   "source": []
  },
  {
   "cell_type": "code",
   "execution_count": 10,
   "metadata": {},
   "outputs": [
    {
     "data": {
      "text/plain": [
       "224.093411120374"
      ]
     },
     "execution_count": 10,
     "metadata": {},
     "output_type": "execute_result"
    }
   ],
   "source": [
    "hrrpua_max = cone_data['HRR (kW/m2)'].max()\n",
    "hrrpua_max"
   ]
  },
  {
   "cell_type": "code",
   "execution_count": 11,
   "metadata": {},
   "outputs": [],
   "source": [
    "def create_hrrpua_ramp(surf_id, hrrpua, time, function_value, ramp_id=None,\n",
    "                       spec_id='PROPANE', color='RASPBERRY', ignition_temp=None):\n",
    "    # Nuclei for the input lines.\n",
    "    hrrpua_surf_nucleus = \"&SURF ID='{}', SPEC_ID(1)='{}', HRRPUA={}, COLOR='{}', RAMP_Q='{}'{}/\"\n",
    "    ramp_nucleus = \"&RAMP ID='{}', T={}, F={}/\"\n",
    "    ignition_nucleus = \", IGNITION_TEMPERATURE = {} \"\n",
    "    \n",
    "    # Initialise list to store the input lines.\n",
    "    input_lines=list()\n",
    "    \n",
    "    # Check if ignition temperature was provided.\n",
    "    if ignition_temp is None:\n",
    "        ignition_temp=' '\n",
    "    \n",
    "    # Check if RAMP_ID was provided.\n",
    "    if ramp_id is None:\n",
    "        ramp_id = 'BURNER_RAMP'\n",
    "        \n",
    "    # Build SURF input line.\n",
    "    hrrpua_surf = hrrpua_surf_nucleus.format(surf_id, spec_id, hrrpua, color, ramp_id, ignition_temp)\n",
    "    input_lines.append(hrrpua_surf)\n",
    "    input_lines.append('')\n",
    "    input_lines.append('')\n",
    "    input_lines.append('')\n",
    "    \n",
    "    # Build the RAMP input lines.\n",
    "    for id_time, time_val in enumerate(time):\n",
    "        f_val = function_value[id_time] / hrrpua\n",
    "        ramp_line = ramp_nucleus.format(ramp_id, time_val, f_val)\n",
    "        input_lines.append(ramp_line)\n",
    "        \n",
    "    \n",
    "    # Return the list of input lines.\n",
    "    return input_lines"
   ]
  },
  {
   "cell_type": "code",
   "execution_count": 12,
   "metadata": {},
   "outputs": [],
   "source": [
    "ramp_input = create_hrrpua_ramp(surf_id='BURNER', hrrpua=hrrpua_max, time=ramp_df.Time, \n",
    "                                function_value=ramp_df.HRR, ramp_id=None,\n",
    "                                spec_id='PROPANE', color='RASPBERRY', ignition_temp=None)"
   ]
  },
  {
   "cell_type": "code",
   "execution_count": 13,
   "metadata": {},
   "outputs": [
    {
     "name": "stdout",
     "output_type": "stream",
     "text": [
      "&SURF ID='BURNER', SPEC_ID(1)='PROPANE', HRRPUA=224.093411120374, COLOR='RASPBERRY', RAMP_Q='BURNER_RAMP' /\n",
      "\n",
      "\n",
      "\n",
      "&RAMP ID='BURNER_RAMP', T=0.0, F=0.0044842220111413105/\n",
      "&RAMP ID='BURNER_RAMP', T=9.0, F=0.0/\n",
      "&RAMP ID='BURNER_RAMP', T=31.0, F=0.01938252678045156/\n",
      "&RAMP ID='BURNER_RAMP', T=38.37931034482759, F=0.011184400722677845/\n",
      "&RAMP ID='BURNER_RAMP', T=67.0, F=0.0/\n",
      "&RAMP ID='BURNER_RAMP', T=76.75862068965517, F=0.10118093527143487/\n",
      "&RAMP ID='BURNER_RAMP', T=115.13793103448276, F=0.3970143962254664/\n",
      "&RAMP ID='BURNER_RAMP', T=141.0, F=0.43189410225073505/\n",
      "&RAMP ID='BURNER_RAMP', T=153.51724137931035, F=0.4062699141500272/\n",
      "&RAMP ID='BURNER_RAMP', T=191.89655172413794, F=0.3735974553972969/\n",
      "&RAMP ID='BURNER_RAMP', T=230.27586206896552, F=0.3233073126412962/\n",
      "&RAMP ID='BURNER_RAMP', T=268.65517241379314, F=0.2994635080021613/\n",
      "&RAMP ID='BURNER_RAMP', T=293.0, F=0.28054853349827075/\n",
      "&RAMP ID='BURNER_RAMP', T=307.0344827586207, F=0.28781718965485614/\n",
      "&RAMP ID='BURNER_RAMP', T=345.41379310344826, F=0.43103366762792517/\n",
      "&RAMP ID='BURNER_RAMP', T=383.7931034482759, F=0.668434961999287/\n",
      "&RAMP ID='BURNER_RAMP', T=418.0, F=0.8019160741395791/\n",
      "&RAMP ID='BURNER_RAMP', T=422.1724137931035, F=0.7792641860094376/\n",
      "&RAMP ID='BURNER_RAMP', T=460.55172413793105, F=0.7639009227028192/\n",
      "&RAMP ID='BURNER_RAMP', T=471.0, F=0.7329022819766112/\n",
      "&RAMP ID='BURNER_RAMP', T=498.9310344827586, F=0.7522482350106635/\n",
      "&RAMP ID='BURNER_RAMP', T=537.3103448275863, F=0.8739201845106478/\n",
      "&RAMP ID='BURNER_RAMP', T=575.6896551724138, F=0.96119817756202/\n",
      "&RAMP ID='BURNER_RAMP', T=589.0, F=1.0/\n",
      "&RAMP ID='BURNER_RAMP', T=614.0689655172414, F=0.9383443043471369/\n",
      "&RAMP ID='BURNER_RAMP', T=652.448275862069, F=0.7456792364044106/\n",
      "&RAMP ID='BURNER_RAMP', T=690.8275862068965, F=0.6076441940411118/\n",
      "&RAMP ID='BURNER_RAMP', T=729.2068965517242, F=0.45801234765768406/\n",
      "&RAMP ID='BURNER_RAMP', T=767.5862068965517, F=0.3476411054436648/\n",
      "&RAMP ID='BURNER_RAMP', T=805.9655172413793, F=0.2496351969578941/\n",
      "&RAMP ID='BURNER_RAMP', T=844.344827586207, F=0.199425436735651/\n",
      "&RAMP ID='BURNER_RAMP', T=882.7241379310345, F=0.15813159884285646/\n",
      "&RAMP ID='BURNER_RAMP', T=921.1034482758621, F=0.10403013410605658/\n",
      "&RAMP ID='BURNER_RAMP', T=959.4827586206897, F=0.08480319251779174/\n",
      "&RAMP ID='BURNER_RAMP', T=997.8620689655172, F=0.06426680284855138/\n",
      "&RAMP ID='BURNER_RAMP', T=1036.2413793103449, F=0.06052365239948616/\n",
      "&RAMP ID='BURNER_RAMP', T=1071.0, F=0.04963213860192918/\n",
      "&RAMP ID='BURNER_RAMP', T=1074.6206896551726, F=0.052258207137319865/\n",
      "&RAMP ID='BURNER_RAMP', T=1103.0, F=0.06278184216016373/\n",
      "&RAMP ID='BURNER_RAMP', T=1113.0, F=0.057148777728945256/\n"
     ]
    }
   ],
   "source": [
    "for line in ramp_input:\n",
    "    print(line)"
   ]
  },
  {
   "cell_type": "code",
   "execution_count": null,
   "metadata": {},
   "outputs": [],
   "source": []
  },
  {
   "cell_type": "markdown",
   "metadata": {},
   "source": [
    "# Check Result"
   ]
  },
  {
   "cell_type": "code",
   "execution_count": 16,
   "metadata": {},
   "outputs": [
    {
     "data": {
      "text/html": [
       "<div>\n",
       "<style scoped>\n",
       "    .dataframe tbody tr th:only-of-type {\n",
       "        vertical-align: middle;\n",
       "    }\n",
       "\n",
       "    .dataframe tbody tr th {\n",
       "        vertical-align: top;\n",
       "    }\n",
       "\n",
       "    .dataframe thead th {\n",
       "        text-align: right;\n",
       "    }\n",
       "</style>\n",
       "<table border=\"1\" class=\"dataframe\">\n",
       "  <thead>\n",
       "    <tr style=\"text-align: right;\">\n",
       "      <th></th>\n",
       "      <th>Time</th>\n",
       "      <th>HRR</th>\n",
       "      <th>Q_RADI</th>\n",
       "      <th>Q_CONV</th>\n",
       "      <th>Q_COND</th>\n",
       "      <th>Q_DIFF</th>\n",
       "      <th>Q_PRES</th>\n",
       "      <th>Q_PART</th>\n",
       "      <th>Q_GEOM</th>\n",
       "      <th>Q_ENTH</th>\n",
       "      <th>Q_TOTAL</th>\n",
       "      <th>MLR_FUEL</th>\n",
       "      <th>MLR_TOTAL</th>\n",
       "    </tr>\n",
       "  </thead>\n",
       "  <tbody>\n",
       "    <tr>\n",
       "      <th>0</th>\n",
       "      <td>0.000000</td>\n",
       "      <td>0.000000</td>\n",
       "      <td>0.000000</td>\n",
       "      <td>1.647987e-20</td>\n",
       "      <td>0.000000</td>\n",
       "      <td>0.000000e+00</td>\n",
       "      <td>0.0</td>\n",
       "      <td>0.0</td>\n",
       "      <td>0.0</td>\n",
       "      <td>0.000000</td>\n",
       "      <td>1.647987e-20</td>\n",
       "      <td>0.000000e+00</td>\n",
       "      <td>0.000000e+00</td>\n",
       "    </tr>\n",
       "    <tr>\n",
       "      <th>1</th>\n",
       "      <td>2.000000</td>\n",
       "      <td>0.003507</td>\n",
       "      <td>-0.000183</td>\n",
       "      <td>5.555504e-05</td>\n",
       "      <td>-0.000024</td>\n",
       "      <td>-5.772169e-07</td>\n",
       "      <td>0.0</td>\n",
       "      <td>0.0</td>\n",
       "      <td>0.0</td>\n",
       "      <td>0.000602</td>\n",
       "      <td>3.354381e-03</td>\n",
       "      <td>1.820092e-07</td>\n",
       "      <td>1.820092e-07</td>\n",
       "    </tr>\n",
       "    <tr>\n",
       "      <th>2</th>\n",
       "      <td>2.401691</td>\n",
       "      <td>0.026982</td>\n",
       "      <td>-0.001430</td>\n",
       "      <td>4.350392e-04</td>\n",
       "      <td>-0.000111</td>\n",
       "      <td>-5.016491e-07</td>\n",
       "      <td>0.0</td>\n",
       "      <td>0.0</td>\n",
       "      <td>0.0</td>\n",
       "      <td>0.005438</td>\n",
       "      <td>2.587662e-02</td>\n",
       "      <td>1.578709e-07</td>\n",
       "      <td>1.578709e-07</td>\n",
       "    </tr>\n",
       "    <tr>\n",
       "      <th>3</th>\n",
       "      <td>3.616680</td>\n",
       "      <td>0.010782</td>\n",
       "      <td>-0.001198</td>\n",
       "      <td>1.532813e-04</td>\n",
       "      <td>-0.000492</td>\n",
       "      <td>-4.546805e-07</td>\n",
       "      <td>0.0</td>\n",
       "      <td>0.0</td>\n",
       "      <td>0.0</td>\n",
       "      <td>0.015495</td>\n",
       "      <td>9.244155e-03</td>\n",
       "      <td>1.424154e-07</td>\n",
       "      <td>1.424154e-07</td>\n",
       "    </tr>\n",
       "    <tr>\n",
       "      <th>4</th>\n",
       "      <td>4.845472</td>\n",
       "      <td>0.007209</td>\n",
       "      <td>-0.000830</td>\n",
       "      <td>-2.603800e-03</td>\n",
       "      <td>-0.000151</td>\n",
       "      <td>-3.619417e-07</td>\n",
       "      <td>0.0</td>\n",
       "      <td>0.0</td>\n",
       "      <td>0.0</td>\n",
       "      <td>0.003802</td>\n",
       "      <td>3.623992e-03</td>\n",
       "      <td>1.132059e-07</td>\n",
       "      <td>1.132059e-07</td>\n",
       "    </tr>\n",
       "  </tbody>\n",
       "</table>\n",
       "</div>"
      ],
      "text/plain": [
       "       Time       HRR    Q_RADI        Q_CONV    Q_COND        Q_DIFF  Q_PRES  \\\n",
       "0  0.000000  0.000000  0.000000  1.647987e-20  0.000000  0.000000e+00     0.0   \n",
       "1  2.000000  0.003507 -0.000183  5.555504e-05 -0.000024 -5.772169e-07     0.0   \n",
       "2  2.401691  0.026982 -0.001430  4.350392e-04 -0.000111 -5.016491e-07     0.0   \n",
       "3  3.616680  0.010782 -0.001198  1.532813e-04 -0.000492 -4.546805e-07     0.0   \n",
       "4  4.845472  0.007209 -0.000830 -2.603800e-03 -0.000151 -3.619417e-07     0.0   \n",
       "\n",
       "   Q_PART  Q_GEOM    Q_ENTH       Q_TOTAL      MLR_FUEL     MLR_TOTAL  \n",
       "0     0.0     0.0  0.000000  1.647987e-20  0.000000e+00  0.000000e+00  \n",
       "1     0.0     0.0  0.000602  3.354381e-03  1.820092e-07  1.820092e-07  \n",
       "2     0.0     0.0  0.005438  2.587662e-02  1.578709e-07  1.578709e-07  \n",
       "3     0.0     0.0  0.015495  9.244155e-03  1.424154e-07  1.424154e-07  \n",
       "4     0.0     0.0  0.003802  3.623992e-03  1.132059e-07  1.132059e-07  "
      ]
     },
     "execution_count": 16,
     "metadata": {},
     "output_type": "execute_result"
    }
   ],
   "source": [
    "fds_hrr_file = os.path.join('ConePaintTest_hrr.csv')\n",
    "\n",
    "fds_hrr_df = pd.read_csv(fds_hrr_file, header=1)\n",
    "fds_hrr_df.head()"
   ]
  },
  {
   "cell_type": "code",
   "execution_count": 17,
   "metadata": {},
   "outputs": [
    {
     "data": {
      "image/png": "[encoded data removed]",
      "text/plain": [
       "<Figure size 432x288 with 1 Axes>"
      ]
     },
     "metadata": {
      "needs_background": "light"
     },
     "output_type": "display_data"
    }
   ],
   "source": [
    "# Plot results\n",
    "# Experimental data.\n",
    "plt.plot(df[column_label_x], \n",
    "         df[column_label_y], c='k',\n",
    "         label='Exp')\n",
    "# Data points of the RAMP.\n",
    "plt.scatter(ramp_df.Time, ramp_df.HRR, \n",
    "            c='r', label='RAMP')\n",
    "# Response from FDS.\n",
    "plt.plot(fds_hrr_df.Time,\n",
    "         fds_hrr_df.HRR/(0.1**2), \n",
    "         linestyle='dashed',\n",
    "         label='FDS');\n",
    "\n",
    "plt.legend()\n",
    "\n",
    "# plt.title('Energy Release Rate per Unit Area')\n",
    "plt.xlabel('Time in s')\n",
    "plt.ylabel('Energy Release Rate per Unit Area in kW/m²');"
   ]
  },
  {
   "cell_type": "markdown",
   "metadata": {},
   "source": [
    "## Determine Critical Heat Flux"
   ]
  },
  {
   "cell_type": "code",
   "execution_count": null,
   "metadata": {},
   "outputs": [],
   "source": []
  },
  {
   "cell_type": "code",
   "execution_count": null,
   "metadata": {},
   "outputs": [],
   "source": []
  },
  {
   "cell_type": "code",
   "execution_count": null,
   "metadata": {},
   "outputs": [],
   "source": []
  },
  {
   "cell_type": "code",
   "execution_count": null,
   "metadata": {},
   "outputs": [],
   "source": []
  },
  {
   "cell_type": "code",
   "execution_count": null,
   "metadata": {},
   "outputs": [],
   "source": []
  },
  {
   "cell_type": "code",
   "execution_count": null,
   "metadata": {},
   "outputs": [],
   "source": []
  },
  {
   "cell_type": "code",
   "execution_count": null,
   "metadata": {},
   "outputs": [],
   "source": []
  },
  {
   "cell_type": "code",
   "execution_count": null,
   "metadata": {},
   "outputs": [],
   "source": []
  },
  {
   "cell_type": "code",
   "execution_count": null,
   "metadata": {},
   "outputs": [],
   "source": []
  },
  {
   "cell_type": "code",
   "execution_count": null,
   "metadata": {},
   "outputs": [],
   "source": []
  },
  {
   "cell_type": "code",
   "execution_count": null,
   "metadata": {},
   "outputs": [],
   "source": []
  }
 ],
 "metadata": {
  "kernelspec": {
   "display_name": "Python 3",
   "language": "python",
   "name": "python3"
  },
  "language_info": {
   "codemirror_mode": {
    "name": "ipython",
    "version": 3
   },
   "file_extension": ".py",
   "mimetype": "text/x-python",
   "name": "python",
   "nbconvert_exporter": "python",
   "pygments_lexer": "ipython3",
   "version": "3.6.8"
  }
 },
 "nbformat": 4,
 "nbformat_minor": 2
}
