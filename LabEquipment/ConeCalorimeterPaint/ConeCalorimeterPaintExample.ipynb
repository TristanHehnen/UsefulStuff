{
 "cells": [
  {
   "cell_type": "markdown",
   "metadata": {},
   "source": [
    "# Cone Calorimeter Paint\n",
    "\n",
    "This document is meant to provide an example of how to use the functionality provided in the `ConeCalorimeterPaint.py` script."
   ]
  },
  {
   "cell_type": "code",
   "execution_count": 1,
   "metadata": {},
   "outputs": [
    {
     "data": {
      "text/plain": [
       "<module 'ConeCalorimeterPaint' from 'D:\\\\Git\\\\UsefulStuff\\\\LabEquipment\\\\ConeCalorimeterPaint\\\\ConeCalorimeterPaint.py'>"
      ]
     },
     "execution_count": 1,
     "metadata": {},
     "output_type": "execute_result"
    }
   ],
   "source": [
    "import os\n",
    "import sys\n",
    "\n",
    "import numpy as np\n",
    "import pandas as pd\n",
    "import matplotlib\n",
    "import matplotlib.pyplot as plt\n",
    "\n",
    "# sns.set(style=\"darkgrid\")\n",
    "%matplotlib inline\n",
    "\n",
    "from importlib import reload\n",
    "from scipy import constants as const\n",
    "from scipy.signal import argrelextrema\n",
    "\n",
    "\n",
    "import ConeCalorimeterPaint as CCP\n",
    "\n",
    "reload(CCP)"
   ]
  },
  {
   "cell_type": "code",
   "execution_count": 2,
   "metadata": {},
   "outputs": [
    {
     "name": "stdout",
     "output_type": "stream",
     "text": [
      "* Output directory already exists.\n"
     ]
    }
   ],
   "source": [
    "# Directory used to collect the output produced by this notebook.\n",
    "output_dir = \"ConeCalorimeterPaint\"\n",
    "if not os.path.isdir(output_dir):\n",
    "    os.mkdir(output_dir)\n",
    "    print(\"* Output directory created.\")\n",
    "else:\n",
    "    print(\"* Output directory already exists.\")"
   ]
  },
  {
   "cell_type": "markdown",
   "metadata": {},
   "source": [
    "# Input of User Data"
   ]
  },
  {
   "cell_type": "code",
   "execution_count": 3,
   "metadata": {},
   "outputs": [],
   "source": [
    "# Provide necessary information for the calculations.\n",
    "\n",
    "# Example ignition times.\n",
    "ign_times = [717.0, 681.0, 691.0, 50.0, 42.0, 53.0, 28.0]\n",
    "heat_fluxes = [25,25,25,50,50,50,75]  # Test condition.\n",
    "\n",
    "# File with Cone Calorimeter data.\n",
    "cone_file = os.path.join('Experiment', 'cable219_1-50.csv')\n",
    "\n",
    "\n",
    "# Known information.\n",
    "therm_cond = 0.1165  # k\n",
    "density = 1175  # rho\n",
    "\n",
    "# Alpha_s is taken from Ignition Handbook, as recommended value.\n",
    "alpha_s = 0.88\n",
    "\n",
    "\n",
    "# Heat transfer coefficient, in kW/(m²K), \n",
    "# for 50 mm distance and 50 kW external flux.\n",
    "# Lumpes together convective and radiative heat transfer\n",
    "# thus, is an effective heat transfer coefficient.\n",
    "h_c = 0.013 \n",
    "\n",
    "\n",
    "# Room temperature during the test, in Kelvin.\n",
    "# Assumed to be 20°C.\n",
    "T_infty = 293  # 20 + 273\n",
    "\n",
    "\n",
    "# Stefan Boltzmann constant, in W/(m²K**4).\n",
    "# Stefan_Boltzmann_const = 5.670*10**(-8)\n",
    "# Stefan_Boltzmann_const = np.power(5.670, -8)\n",
    "# Stefan_Boltzmann_const = 5.67E-11  # kW\n",
    "Stefan_Boltzmann_const = const.Stefan_Boltzmann/1000\n",
    "\n",
    "\n",
    "# Test value from T. Beji and B. Merci paper.\n",
    "q_crit_test = 14.5"
   ]
  },
  {
   "cell_type": "markdown",
   "metadata": {},
   "source": [
    "# Janssens' Procedure\n",
    "\n",
    "Janssens' Procedure is described in e.g. the Ignition Handbook, chapter 7, p.260, by Babrauskas. The individual steps (p. 261, top right) to retrieve the surface ignition temperature and thermophysical material parameters to simulate the heat up of the material, are performed below."
   ]
  },
  {
   "cell_type": "markdown",
   "metadata": {},
   "source": [
    "## 1. Find Ignition Times from HRR Data Series"
   ]
  },
  {
   "cell_type": "code",
   "execution_count": 4,
   "metadata": {},
   "outputs": [
    {
     "data": {
      "text/plain": [
       "[0.02688217873910332,\n",
       " 0.027654708715657533,\n",
       " 0.027433869849399217,\n",
       " 0.11629646063455595,\n",
       " 0.12800086080374784,\n",
       " 0.11262849262297527,\n",
       " 0.15997903867748484]"
      ]
     },
     "execution_count": 4,
     "metadata": {},
     "output_type": "execute_result"
    }
   ],
   "source": [
    "# Determine the transformed ignition times.\n",
    "transformed_ign_t = list()\n",
    "for ign_time in ign_times:\n",
    "    transformed_ign_t.append(CCP.transform_t(ign_time))\n",
    "\n",
    "# Check results.\n",
    "transformed_ign_t"
   ]
  },
  {
   "cell_type": "markdown",
   "metadata": {},
   "source": [
    "## 2. and 3. Determine Critical Irradiance q\"_crit (Linear Regression)"
   ]
  },
  {
   "cell_type": "code",
   "execution_count": 5,
   "metadata": {},
   "outputs": [
    {
     "data": {
      "text/plain": [
       "array([ 0.00290635, -0.03900414])"
      ]
     },
     "execution_count": 5,
     "metadata": {},
     "output_type": "execute_result"
    }
   ],
   "source": [
    "# Calculate linear fit for the provided data.\n",
    "x = np.array(heat_fluxes)\n",
    "y = transformed_ign_t\n",
    "\n",
    "lin_paras = np.polyfit(x, y, 1)\n",
    "lin_paras"
   ]
  },
  {
   "cell_type": "code",
   "execution_count": 6,
   "metadata": {},
   "outputs": [
    {
     "name": "stdout",
     "output_type": "stream",
     "text": [
      "* Critical flux for ignition: 13.420324052791196 kW/m²\n"
     ]
    }
   ],
   "source": [
    "# Calculate data for plot of linear fit.\n",
    "\n",
    "# Plot limits in x.\n",
    "upper_limit = 80\n",
    "lower_limit = 10\n",
    "\n",
    "# Initialise list for result collection.\n",
    "linear_fit_data = list()\n",
    "\n",
    "x_vals = list()\n",
    "y_vals = list()\n",
    "\n",
    "# Create data series.\n",
    "for irradiance in np.linspace(lower_limit, upper_limit, \n",
    "                              num=upper_limit - lower_limit +1):\n",
    "    x_vals.append(irradiance)\n",
    "    \n",
    "    m_ign = lin_paras[0]\n",
    "    b_ign = lin_paras[1]\n",
    "    y_val = m_ign * irradiance + b_ign\n",
    "    y_vals.append(y_val)\n",
    "    \n",
    "linear_fit_data.append(x_vals)\n",
    "linear_fit_data.append(y_vals)\n",
    "\n",
    "# Check result.\n",
    "irr_crit = (-b_ign)/m_ign\n",
    "print(\"* Critical flux for ignition: {} kW/m²\".format(irr_crit))"
   ]
  },
  {
   "cell_type": "code",
   "execution_count": null,
   "metadata": {},
   "outputs": [],
   "source": []
  },
  {
   "cell_type": "markdown",
   "metadata": {},
   "source": [
    "### Plot \"Transformed Ignition Time\" Against Irradiance Level\n",
    "\n",
    "The linear functions were built by a polynomial fit through the data points of a given series - either the minimum of centre ignition times.\n",
    "\n",
    "Intersections with the x-axis are taken as the critical radiative heat fluxes for ignition. It is possible to obtain better values, by testing what the actual lowest irradiance level for ignition is. However, this kind of data is not available here, thus the critical flax was used."
   ]
  },
  {
   "cell_type": "code",
   "execution_count": 7,
   "metadata": {},
   "outputs": [
    {
     "data": {
      "image/png": "[encoded data removed]",
      "text/plain": [
       "<Figure size 380.16x348.48 with 1 Axes>"
      ]
     },
     "metadata": {
      "needs_background": "light"
     },
     "output_type": "display_data"
    }
   ],
   "source": [
    "# Define data to be plotted.\n",
    "plot_file_name = 'CriticalHeatFlux_Guess.png'\n",
    "\n",
    "\n",
    "# Set figure and font size. \n",
    "scaling = 0.88\n",
    "fontsize = 14\n",
    "\n",
    "plt.rcParams.update({'font.size': fontsize})\n",
    "plt.rcParams.update({'font.family': 'serif'})\n",
    "\n",
    "fig = plt.figure(figsize=(6.0*scaling,\n",
    "                          5.5*scaling))\n",
    "\n",
    "# Data points.\n",
    "# 25 kW/m²\n",
    "plt.plot(25, CCP.transform_t(ign_times[0]),\n",
    "         linestyle='none', marker='.', color='b',\n",
    "         label='Experiment')\n",
    "plt.plot(25, CCP.transform_t(ign_times[1]),\n",
    "         linestyle='none', marker='.', color='b',\n",
    "         label='_no_label_')\n",
    "plt.plot(25, CCP.transform_t(ign_times[2]),\n",
    "         linestyle='none', marker='.', color='b',\n",
    "         label='_no_label_')\n",
    "\n",
    "# 50 kW/m²\n",
    "plt.plot(50, CCP.transform_t(ign_times[3]),\n",
    "         linestyle='none', marker='.', color='b',\n",
    "         label='_no_label_')\n",
    "plt.plot(50, CCP.transform_t(ign_times[4]),\n",
    "         linestyle='none', marker='.', color='b',\n",
    "         label='_no_label_')\n",
    "plt.plot(50, CCP.transform_t(ign_times[5]),\n",
    "         linestyle='none', marker='.', color='b',\n",
    "         label='_no_label_')\n",
    "\n",
    "# 75 kW/m²\n",
    "plt.plot(75, CCP.transform_t(ign_times[6]),\n",
    "         linestyle='none', marker='.', color='b',\n",
    "         label='_no_label_')\n",
    "\n",
    "\n",
    "# linear fit for center values.\n",
    "plt.plot(linear_fit_data[0], \n",
    "         linear_fit_data[1],\n",
    "         linestyle='--', color='b', alpha=0.7)\n",
    "    \n",
    "plt.plot(irr_crit, \n",
    "         0,  # Critical flux where x-axis intersects\n",
    "         linestyle='none', marker='*', color='b',\n",
    "         label='q\" crit.')\n",
    "\n",
    "\n",
    "plt.xlim(left=0, right=80)\n",
    "plt.ylim(bottom=-0.05)\n",
    "\n",
    "plt.xlabel('Irradiance, in kW/m²')\n",
    "plt.ylabel('Transformed Ignition Time, in t^(-0.55)')\n",
    "\n",
    "plt.legend()\n",
    "plt.grid()\n",
    "plt.tight_layout()\n",
    "\n",
    "# Save file.\n",
    "pfn = os.path.join(output_dir, \n",
    "                   plot_file_name)\n",
    "plt.savefig(pfn, dpi=320);"
   ]
  },
  {
   "cell_type": "code",
   "execution_count": null,
   "metadata": {},
   "outputs": [],
   "source": []
  },
  {
   "cell_type": "markdown",
   "metadata": {},
   "source": [
    "## 4. Determine B_ig from the Slope"
   ]
  },
  {
   "cell_type": "code",
   "execution_count": 8,
   "metadata": {},
   "outputs": [
    {
     "name": "stdout",
     "output_type": "stream",
     "text": [
      "B_ig:  344.07434227567336\n"
     ]
    }
   ],
   "source": [
    "B_ig = CCP.B_ign(m_ign)\n",
    "print('B_ig: ', B_ig)"
   ]
  },
  {
   "cell_type": "markdown",
   "metadata": {},
   "source": [
    "## 5. Determine T_ig\n",
    "\n",
    "The surface ignition temperatue is determined by trail-and-error by a relationship detailed under point 5 of the description in the Ignition Handbook"
   ]
  },
  {
   "cell_type": "code",
   "execution_count": 9,
   "metadata": {},
   "outputs": [
    {
     "name": "stdout",
     "output_type": "stream",
     "text": [
      "* Estimated ignition time:\n",
      "Janssens' delta: 2.7778585368759545e-07\n",
      "Janssens' T_guess: 628.9800000002706 K\n"
     ]
    }
   ],
   "source": [
    "# Estimate the ignition time.\n",
    "print('* Estimated ignition time:')\n",
    "T_ig_Janssen = CCP.Janssens_T_ign(q_ext=irr_crit,\n",
    "                                  h_coeff=h_c)"
   ]
  },
  {
   "cell_type": "markdown",
   "metadata": {},
   "source": [
    "## 6. Solve for h_eff"
   ]
  },
  {
   "cell_type": "code",
   "execution_count": 10,
   "metadata": {},
   "outputs": [
    {
     "name": "stdout",
     "output_type": "stream",
     "text": [
      "h_eff, Janssen:  0.03515056005252319\n"
     ]
    }
   ],
   "source": [
    "h_eff_Janssen = CCP.solve_h_eff(alpha_s, irr_crit,\n",
    "                                T_ig_Janssen, T_infty)\n",
    "\n",
    "print('h_eff, Janssen: ', h_eff_Janssen)"
   ]
  },
  {
   "cell_type": "markdown",
   "metadata": {},
   "source": [
    "## 7. Compute \"k rho c\""
   ]
  },
  {
   "cell_type": "code",
   "execution_count": 11,
   "metadata": {},
   "outputs": [
    {
     "name": "stdout",
     "output_type": "stream",
     "text": [
      "k_rho_c minimum, Janssen:  0.8263421847732422\n"
     ]
    }
   ],
   "source": [
    "k_rho_c_Janssen = CCP.k_rho_c(h_eff_Janssen, \n",
    "                              B_ig, \n",
    "                              irr_crit)\n",
    "\n",
    "print('k_rho_c minimum, Janssen: ', k_rho_c_Janssen)"
   ]
  },
  {
   "cell_type": "code",
   "execution_count": 12,
   "metadata": {},
   "outputs": [
    {
     "name": "stdout",
     "output_type": "stream",
     "text": [
      "c, Janssen:  0.006036651884016014\n"
     ]
    }
   ],
   "source": [
    "# Determine c from Janssens' procedure.\n",
    "c_Janssen = k_rho_c_Janssen / (therm_cond * density)\n",
    "print('c, Janssen: ', c_Janssen)"
   ]
  },
  {
   "cell_type": "markdown",
   "metadata": {},
   "source": [
    "# Read Cone Data\n",
    "\n",
    "Based on the data of a Cone Calorimeter test a RAMP for FDS is created."
   ]
  },
  {
   "cell_type": "code",
   "execution_count": 13,
   "metadata": {},
   "outputs": [
    {
     "data": {
      "text/html": [
       "<div>\n",
       "<style scoped>\n",
       "    .dataframe tbody tr th:only-of-type {\n",
       "        vertical-align: middle;\n",
       "    }\n",
       "\n",
       "    .dataframe tbody tr th {\n",
       "        vertical-align: top;\n",
       "    }\n",
       "\n",
       "    .dataframe thead th {\n",
       "        text-align: right;\n",
       "    }\n",
       "</style>\n",
       "<table border=\"1\" class=\"dataframe\">\n",
       "  <thead>\n",
       "    <tr style=\"text-align: right;\">\n",
       "      <th></th>\n",
       "      <th>Time</th>\n",
       "      <th>HRR</th>\n",
       "    </tr>\n",
       "  </thead>\n",
       "  <tbody>\n",
       "    <tr>\n",
       "      <th>0</th>\n",
       "      <td>0</td>\n",
       "      <td>-2.127972</td>\n",
       "    </tr>\n",
       "    <tr>\n",
       "      <th>1</th>\n",
       "      <td>1</td>\n",
       "      <td>-3.641206</td>\n",
       "    </tr>\n",
       "    <tr>\n",
       "      <th>2</th>\n",
       "      <td>2</td>\n",
       "      <td>-3.423353</td>\n",
       "    </tr>\n",
       "    <tr>\n",
       "      <th>3</th>\n",
       "      <td>3</td>\n",
       "      <td>-2.361974</td>\n",
       "    </tr>\n",
       "    <tr>\n",
       "      <th>4</th>\n",
       "      <td>4</td>\n",
       "      <td>0.007127</td>\n",
       "    </tr>\n",
       "  </tbody>\n",
       "</table>\n",
       "</div>"
      ],
      "text/plain": [
       "   Time       HRR\n",
       "0     0 -2.127972\n",
       "1     1 -3.641206\n",
       "2     2 -3.423353\n",
       "3     3 -2.361974\n",
       "4     4  0.007127"
      ]
     },
     "execution_count": 13,
     "metadata": {},
     "output_type": "execute_result"
    }
   ],
   "source": [
    "cone_data = pd.read_csv(cone_file)\n",
    "cone_data.head()"
   ]
  },
  {
   "cell_type": "code",
   "execution_count": 14,
   "metadata": {},
   "outputs": [
    {
     "data": {
      "text/plain": [
       "[<matplotlib.lines.Line2D at 0x1bbeffc1438>]"
      ]
     },
     "execution_count": 14,
     "metadata": {},
     "output_type": "execute_result"
    },
    {
     "data": {
      "image/png": "[encoded data removed]",
      "text/plain": [
       "<Figure size 432x288 with 1 Axes>"
      ]
     },
     "metadata": {
      "needs_background": "light"
     },
     "output_type": "display_data"
    }
   ],
   "source": [
    "plt.plot(cone_data['Time'],\n",
    "         cone_data['HRR'])"
   ]
  },
  {
   "cell_type": "markdown",
   "metadata": {},
   "source": [
    "# Process Data\n",
    "\n",
    "## Find Local Extrema"
   ]
  },
  {
   "cell_type": "code",
   "execution_count": 15,
   "metadata": {},
   "outputs": [
    {
     "data": {
      "image/png": "[encoded data removed]",
      "text/plain": [
       "<Figure size 432x288 with 1 Axes>"
      ]
     },
     "metadata": {
      "needs_background": "light"
     },
     "output_type": "display_data"
    }
   ],
   "source": [
    "# Adopted from: \n",
    "# https://stackoverflow.com/questions/48023982/pandas-finding-local-max-and-min?rq=1\n",
    "\n",
    "# number of points to be checked before and after \n",
    "n=15 \n",
    "\n",
    "# Set DataFrame and desired column.\n",
    "df = cone_data\n",
    "column_label = 'HRR'\n",
    "\n",
    "# Find local peaks\n",
    "df['min'] = df.iloc[argrelextrema(df[column_label].values, \n",
    "                                  np.less_equal, \n",
    "                                  order=n)[0]][column_label]\n",
    "df['max'] = df.iloc[argrelextrema(df[column_label].values, \n",
    "                                  np.greater_equal, \n",
    "                                  order=n)[0]][column_label]\n",
    "\n",
    "# Plot results\n",
    "plt.scatter(df.index, df['min'], c='r')\n",
    "plt.scatter(df.index, df['max'], c='g')\n",
    "plt.plot(df.index, df[column_label]);"
   ]
  },
  {
   "cell_type": "markdown",
   "metadata": {},
   "source": [
    "## Interpolate Data"
   ]
  },
  {
   "cell_type": "code",
   "execution_count": 16,
   "metadata": {},
   "outputs": [
    {
     "name": "stdout",
     "output_type": "stream",
     "text": [
      "Data points: 1643\n"
     ]
    },
    {
     "data": {
      "image/png": "[encoded data removed]",
      "text/plain": [
       "<Figure size 432x288 with 1 Axes>"
      ]
     },
     "metadata": {
      "needs_background": "light"
     },
     "output_type": "display_data"
    }
   ],
   "source": [
    "# Number of data points to be used for the RAMP.\n",
    "n=38 \n",
    "\n",
    "# Set DataFrame and desired column.\n",
    "df = cone_data\n",
    "column_label_x = 'Time'\n",
    "column_label_y = 'HRR'\n",
    "\n",
    "data_points = len(df[column_label_y])\n",
    "print('Data points: {}'.format(data_points))\n",
    "\n",
    "# Calculate the new x values to be used for the interpolation.\n",
    "x_vals = np.linspace(0, data_points, n, endpoint=True)\n",
    "\n",
    "# Interpolate the data series based on the new x-values.\n",
    "# Incorporate the last data point (df.tail(1)).\n",
    "interpolated_y = np.interp(x=x_vals,\n",
    "                           xp=df[column_label_x],\n",
    "                           fp=df[column_label_y], \n",
    "                           right=df[column_label_y].tail(1))\n",
    "\n",
    "# Collect new data points in DataFrame.\n",
    "ramp_df = pd.DataFrame({'Time': x_vals,\n",
    "                        'HRR': interpolated_y})\n",
    "\n",
    "# Plot results.\n",
    "plt.scatter(ramp_df.Time, ramp_df.HRR, c='g')\n",
    "plt.plot(df[column_label_x], df[column_label_y]);"
   ]
  },
  {
   "cell_type": "markdown",
   "metadata": {},
   "source": [
    "## Combine Data Points"
   ]
  },
  {
   "cell_type": "code",
   "execution_count": 17,
   "metadata": {},
   "outputs": [
    {
     "data": {
      "text/html": [
       "<div>\n",
       "<style scoped>\n",
       "    .dataframe tbody tr th:only-of-type {\n",
       "        vertical-align: middle;\n",
       "    }\n",
       "\n",
       "    .dataframe tbody tr th {\n",
       "        vertical-align: top;\n",
       "    }\n",
       "\n",
       "    .dataframe thead th {\n",
       "        text-align: right;\n",
       "    }\n",
       "</style>\n",
       "<table border=\"1\" class=\"dataframe\">\n",
       "  <thead>\n",
       "    <tr style=\"text-align: right;\">\n",
       "      <th></th>\n",
       "      <th>Time</th>\n",
       "      <th>HRR</th>\n",
       "    </tr>\n",
       "  </thead>\n",
       "  <tbody>\n",
       "    <tr>\n",
       "      <th>81</th>\n",
       "      <td>1598.594595</td>\n",
       "      <td>22.842632</td>\n",
       "    </tr>\n",
       "    <tr>\n",
       "      <th>82</th>\n",
       "      <td>1634.000000</td>\n",
       "      <td>7.829619</td>\n",
       "    </tr>\n",
       "    <tr>\n",
       "      <th>83</th>\n",
       "      <td>1642.000000</td>\n",
       "      <td>14.563365</td>\n",
       "    </tr>\n",
       "    <tr>\n",
       "      <th>84</th>\n",
       "      <td>1643.000000</td>\n",
       "      <td>14.563365</td>\n",
       "    </tr>\n",
       "    <tr>\n",
       "      <th>85</th>\n",
       "      <td>1644.000000</td>\n",
       "      <td>0.000000</td>\n",
       "    </tr>\n",
       "  </tbody>\n",
       "</table>\n",
       "</div>"
      ],
      "text/plain": [
       "           Time        HRR\n",
       "81  1598.594595  22.842632\n",
       "82  1634.000000   7.829619\n",
       "83  1642.000000  14.563365\n",
       "84  1643.000000  14.563365\n",
       "85  1644.000000   0.000000"
      ]
     },
     "execution_count": 17,
     "metadata": {},
     "output_type": "execute_result"
    }
   ],
   "source": [
    "# Get local extrema.\n",
    "local_extrema = [cone_data['min'].notnull(),\n",
    "                 cone_data['max'].notnull()]\n",
    "\n",
    "for extrema in local_extrema:\n",
    "    for id_extr, extremum in enumerate(extrema):\n",
    "        # Find location of extremum.\n",
    "        if extremum:\n",
    "            hrr_val = cone_data.iloc[id_extr]['HRR']\n",
    "            \n",
    "            # Prevent negative values to be chosen.\n",
    "            if hrr_val < 0:\n",
    "                new_time = cone_data.iloc[id_extr]['Time']\n",
    "                new_hrr = np.float64(0.0)\n",
    "            else:\n",
    "                new_time = cone_data.iloc[id_extr]['Time'] \n",
    "                new_hrr = cone_data.iloc[id_extr]['HRR']\n",
    "            \n",
    "            # Create DataFrame of new row to be inserted into \n",
    "            # the DataFrame with the interpolated values.\n",
    "            new_row = pd.DataFrame({'Time': new_time,\n",
    "                                    'HRR': new_hrr},\n",
    "                                   index=[0])\n",
    "            \n",
    "            # Add new row into the interpolated DataFrame.\n",
    "            ramp_df = pd.concat([new_row, ramp_df]).reset_index(drop=True)             \n",
    "\n",
    "# Force energy release to be 0 after data ends.\n",
    "# Create DataFrame of new row to be inserted into \n",
    "# the DataFrame with the interpolated values.\n",
    "new_row = pd.DataFrame({'Time': new_time+2,\n",
    "                        'HRR': 0.0},\n",
    "                       index=[0])\n",
    "\n",
    "# Add new row into the interpolated DataFrame.\n",
    "ramp_df = pd.concat([new_row, ramp_df]).reset_index(drop=True)  \n",
    "            \n",
    "# Sort DataFrame by the time values.\n",
    "ramp_df = ramp_df.sort_values(by=['Time']).reset_index(drop=True) \n",
    "\n",
    "# Check.\n",
    "ramp_df.tail()"
   ]
  },
  {
   "cell_type": "markdown",
   "metadata": {},
   "source": [
    "# Build FDS Input Based on Janssens' T_guess"
   ]
  },
  {
   "cell_type": "code",
   "execution_count": 20,
   "metadata": {},
   "outputs": [
    {
     "data": {
      "text/plain": [
       "194.4652856"
      ]
     },
     "execution_count": 20,
     "metadata": {},
     "output_type": "execute_result"
    }
   ],
   "source": [
    "hrrpua_max = cone_data['HRR'].max()\n",
    "hrrpua_max"
   ]
  },
  {
   "cell_type": "code",
   "execution_count": 21,
   "metadata": {},
   "outputs": [],
   "source": [
    "# Build MATL input.\n",
    "matl_id_label = 'GreenStuff'\n",
    "matl_min = CCP.matl_nucleus.format(matl_id_label,\n",
    "                                   therm_cond,\n",
    "                                   c_Janssen,\n",
    "                                   density)"
   ]
  },
  {
   "cell_type": "code",
   "execution_count": 22,
   "metadata": {},
   "outputs": [],
   "source": [
    "# Build SURF and RAMP input.\n",
    "ramp_input = CCP.create_hrrpua_ramp(surf_id='GreenStuffSURF', \n",
    "                                    hrrpua=hrrpua_max, \n",
    "                                    time=ramp_df.Time-44.4054054054054,  # Offset the time  \n",
    "                                    function_value=ramp_df.HRR,\n",
    "                                    offset=4,\n",
    "                                    ramp_id=None,\n",
    "                                    spec_id='TOLUENE',\n",
    "                                    matl_id=matl_id_label,\n",
    "                                    color='GREEN',\n",
    "                                    ignition_temp=T_ig_Janssen-273,\n",
    "                                    thickness=0.02)"
   ]
  },
  {
   "cell_type": "code",
   "execution_count": 23,
   "metadata": {},
   "outputs": [
    {
     "name": "stdout",
     "output_type": "stream",
     "text": [
      "&MATL ID = 'GreenStuff',\n",
      "      CONDUCTIVITY = 0.1165,\n",
      "      SPECIFIC_HEAT = 0.006036651884016014,\n",
      "      DENSITY = 1175 /\n",
      "\n",
      "\n",
      "&SURF ID = 'GreenStuffSURF',\n",
      "      COLOR = 'GREEN',\n",
      "      SPEC_ID(1) ='TOLUENE',\n",
      "      HRRPUA = 194.4652856,\n",
      "      RAMP_Q = 'BURNER_RAMP',\n",
      "      IGNITION_TEMPERATURE = 355.9800000002706,\n",
      "      MATL_ID = 'GreenStuff',\n",
      "      THICKNESS = 0.02 /\n",
      "\n",
      "\n",
      "\n",
      "&RAMP ID='BURNER_RAMP', T=0.0, F=0.01804669362735026/\n",
      "&RAMP ID='BURNER_RAMP', T=44.4054054054054, F=0.6221015573327547/\n",
      "&RAMP ID='BURNER_RAMP', T=47.5945945945946, F=0.6409995599749347/\n",
      "&RAMP ID='BURNER_RAMP', T=88.81081081081079, F=0.5170179140175021/\n",
      "&RAMP ID='BURNER_RAMP', T=133.2162162162162, F=0.39052567322364073/\n",
      "&RAMP ID='BURNER_RAMP', T=137.59459459459458, F=0.3574368114881683/\n",
      "&RAMP ID='BURNER_RAMP', T=164.59459459459458, F=0.3903871939187896/\n",
      "&RAMP ID='BURNER_RAMP', T=177.6216216216216, F=0.33816748702177785/\n",
      "&RAMP ID='BURNER_RAMP', T=186.59459459459458, F=0.3736312584316592/\n",
      "&RAMP ID='BURNER_RAMP', T=213.59459459459458, F=0.3296627771491572/\n",
      "&RAMP ID='BURNER_RAMP', T=215.59459459459458, F=0.3726020809135099/\n",
      "&RAMP ID='BURNER_RAMP', T=222.02702702702697, F=0.3659576382538713/\n",
      "&RAMP ID='BURNER_RAMP', T=243.59459459459458, F=0.32593360195080495/\n",
      "&RAMP ID='BURNER_RAMP', T=262.5945945945946, F=0.3734178936664673/\n",
      "&RAMP ID='BURNER_RAMP', T=266.4324324324324, F=0.3503991163771508/\n",
      "&RAMP ID='BURNER_RAMP', T=276.5945945945946, F=0.34854063814462116/\n",
      "&RAMP ID='BURNER_RAMP', T=300.5945945945946, F=0.3572824019753991/\n",
      "&RAMP ID='BURNER_RAMP', T=310.8378378378378, F=0.3892663438212938/\n",
      "&RAMP ID='BURNER_RAMP', T=355.2432432432432, F=0.47107093129928257/\n",
      "&RAMP ID='BURNER_RAMP', T=399.64864864864865, F=0.5619782041601209/\n",
      "&RAMP ID='BURNER_RAMP', T=444.054054054054, F=0.7148433359449102/\n",
      "&RAMP ID='BURNER_RAMP', T=454.5945945945946, F=0.7244304923901543/\n",
      "&RAMP ID='BURNER_RAMP', T=458.5945945945946, F=0.6769208329077733/\n",
      "&RAMP ID='BURNER_RAMP', T=484.5945945945946, F=0.7678274034324614/\n",
      "&RAMP ID='BURNER_RAMP', T=488.45945945945937, F=0.7493953740983325/\n",
      "&RAMP ID='BURNER_RAMP', T=516.5945945945946, F=0.7128262855362808/\n",
      "&RAMP ID='BURNER_RAMP', T=532.8648648648648, F=0.7556930952682969/\n",
      "&RAMP ID='BURNER_RAMP', T=537.5945945945946, F=0.7899641137801101/\n",
      "&RAMP ID='BURNER_RAMP', T=577.2702702702702, F=0.8735935609287182/\n",
      "&RAMP ID='BURNER_RAMP', T=604.5945945945946, F=0.877481827532924/\n",
      "&RAMP ID='BURNER_RAMP', T=617.5945945945946, F=0.9529804063908465/\n",
      "&RAMP ID='BURNER_RAMP', T=621.6756756756756, F=0.9338974156287734/\n",
      "&RAMP ID='BURNER_RAMP', T=641.5945945945946, F=0.9675316322884108/\n",
      "&RAMP ID='BURNER_RAMP', T=657.5945945945946, F=0.9104489824686737/\n",
      "&RAMP ID='BURNER_RAMP', T=666.081081081081, F=0.9534862368230282/\n",
      "&RAMP ID='BURNER_RAMP', T=670.5945945945946, F=0.9644431988019563/\n",
      "&RAMP ID='BURNER_RAMP', T=679.5945945945946, F=0.9047185046789658/\n",
      "&RAMP ID='BURNER_RAMP', T=710.4864864864865, F=0.9365506825700763/\n",
      "&RAMP ID='BURNER_RAMP', T=715.5945945945946, F=0.9200433149185164/\n",
      "&RAMP ID='BURNER_RAMP', T=723.5945945945946, F=0.9867300665409867/\n",
      "&RAMP ID='BURNER_RAMP', T=732.5945945945946, F=0.933523699306464/\n",
      "&RAMP ID='BURNER_RAMP', T=754.5945945945946, F=0.9335952827767838/\n",
      "&RAMP ID='BURNER_RAMP', T=754.8918918918919, F=0.9374959617540672/\n",
      "&RAMP ID='BURNER_RAMP', T=764.5945945945946, F=1.0/\n",
      "&RAMP ID='BURNER_RAMP', T=777.5945945945946, F=0.9215654585704628/\n",
      "&RAMP ID='BURNER_RAMP', T=787.5945945945946, F=0.9756038488547594/\n",
      "&RAMP ID='BURNER_RAMP', T=799.2972972972973, F=0.9620555970352611/\n",
      "&RAMP ID='BURNER_RAMP', T=804.5945945945946, F=0.9674591977664521/\n",
      "&RAMP ID='BURNER_RAMP', T=819.5945945945946, F=0.9047163711362168/\n",
      "&RAMP ID='BURNER_RAMP', T=821.5945945945946, F=0.9519062079838891/\n",
      "&RAMP ID='BURNER_RAMP', T=843.7027027027027, F=0.8945113503951113/\n",
      "&RAMP ID='BURNER_RAMP', T=888.108108108108, F=0.8256424880417865/\n",
      "&RAMP ID='BURNER_RAMP', T=932.5135135135134, F=0.7387898038708246/\n",
      "&RAMP ID='BURNER_RAMP', T=976.9189189189188, F=0.6369330567789241/\n",
      "&RAMP ID='BURNER_RAMP', T=1017.5945945945946, F=0.5906316078246101/\n",
      "&RAMP ID='BURNER_RAMP', T=1021.3243243243242, F=0.6126049085302521/\n",
      "&RAMP ID='BURNER_RAMP', T=1026.5945945945946, F=0.6231371749776198/\n",
      "&RAMP ID='BURNER_RAMP', T=1065.7297297297296, F=0.5772743487817908/\n",
      "&RAMP ID='BURNER_RAMP', T=1110.135135135135, F=0.5185044091669695/\n",
      "&RAMP ID='BURNER_RAMP', T=1154.5405405405404, F=0.45510106631096714/\n",
      "&RAMP ID='BURNER_RAMP', T=1198.9459459459458, F=0.33662229516669534/\n",
      "&RAMP ID='BURNER_RAMP', T=1243.3513513513512, F=0.264715262433924/\n",
      "&RAMP ID='BURNER_RAMP', T=1287.7567567567567, F=0.2145937687452577/\n",
      "&RAMP ID='BURNER_RAMP', T=1332.162162162162, F=0.18016497726759087/\n",
      "&RAMP ID='BURNER_RAMP', T=1332.5945945945946, F=0.17708155300701137/\n",
      "&RAMP ID='BURNER_RAMP', T=1341.5945945945946, F=0.21847196551773662/\n",
      "&RAMP ID='BURNER_RAMP', T=1376.5675675675675, F=0.17068179029386726/\n",
      "&RAMP ID='BURNER_RAMP', T=1384.5945945945946, F=0.13878409679511458/\n",
      "&RAMP ID='BURNER_RAMP', T=1411.5945945945946, F=0.1807731946683239/\n",
      "&RAMP ID='BURNER_RAMP', T=1420.972972972973, F=0.1621167574849913/\n",
      "&RAMP ID='BURNER_RAMP', T=1457.5945945945946, F=0.1580903417036403/\n",
      "&RAMP ID='BURNER_RAMP', T=1465.3783783783783, F=0.13582844955961812/\n",
      "&RAMP ID='BURNER_RAMP', T=1466.5945945945946, F=0.12224426301410786/\n",
      "&RAMP ID='BURNER_RAMP', T=1487.5945945945946, F=0.17445370969593763/\n",
      "&RAMP ID='BURNER_RAMP', T=1509.7837837837837, F=0.15530422826440088/\n",
      "&RAMP ID='BURNER_RAMP', T=1519.5945945945946, F=0.12122002005277183/\n",
      "&RAMP ID='BURNER_RAMP', T=1539.5945945945946, F=0.15237819109242604/\n",
      "&RAMP ID='BURNER_RAMP', T=1554.1891891891892, F=0.11746380123659027/\n",
      "&RAMP ID='BURNER_RAMP', T=1589.5945945945946, F=0.04026229636740883/\n",
      "&RAMP ID='BURNER_RAMP', T=1597.5945945945946, F=0.07488927746186902/\n",
      "&RAMP ID='BURNER_RAMP', T=1598.5945945945946, F=0.07488927746186902/\n",
      "&RAMP ID='BURNER_RAMP', T=1599.5945945945946, F=0.0/\n"
     ]
    }
   ],
   "source": [
    "# Show results.\n",
    "\n",
    "# MATL\n",
    "print(matl_min)\n",
    "print('\\n')\n",
    "\n",
    "# SURF and RAMP\n",
    "for line in ramp_input:\n",
    "    print(line)"
   ]
  },
  {
   "cell_type": "code",
   "execution_count": null,
   "metadata": {},
   "outputs": [],
   "source": []
  },
  {
   "cell_type": "markdown",
   "metadata": {},
   "source": [
    "## Check Result\n",
    "\n",
    "Only used to provide an example to check the result. The main document ended above."
   ]
  },
  {
   "cell_type": "code",
   "execution_count": 24,
   "metadata": {},
   "outputs": [
    {
     "data": {
      "text/html": [
       "<div>\n",
       "<style scoped>\n",
       "    .dataframe tbody tr th:only-of-type {\n",
       "        vertical-align: middle;\n",
       "    }\n",
       "\n",
       "    .dataframe tbody tr th {\n",
       "        vertical-align: top;\n",
       "    }\n",
       "\n",
       "    .dataframe thead th {\n",
       "        text-align: right;\n",
       "    }\n",
       "</style>\n",
       "<table border=\"1\" class=\"dataframe\">\n",
       "  <thead>\n",
       "    <tr style=\"text-align: right;\">\n",
       "      <th></th>\n",
       "      <th>Time</th>\n",
       "      <th>HRR</th>\n",
       "      <th>Q_RADI</th>\n",
       "      <th>Q_CONV</th>\n",
       "      <th>Q_COND</th>\n",
       "      <th>Q_DIFF</th>\n",
       "      <th>Q_PRES</th>\n",
       "      <th>Q_PART</th>\n",
       "      <th>Q_GEOM</th>\n",
       "      <th>Q_ENTH</th>\n",
       "      <th>Q_TOTAL</th>\n",
       "      <th>MLR_FUEL</th>\n",
       "      <th>MLR_TOTAL</th>\n",
       "    </tr>\n",
       "  </thead>\n",
       "  <tbody>\n",
       "    <tr>\n",
       "      <th>0</th>\n",
       "      <td>0.000000</td>\n",
       "      <td>0.000000</td>\n",
       "      <td>-4.190175e-19</td>\n",
       "      <td>-5.551115e-20</td>\n",
       "      <td>0.000000e+00</td>\n",
       "      <td>0.000000e+00</td>\n",
       "      <td>0.0</td>\n",
       "      <td>0.0</td>\n",
       "      <td>0.0</td>\n",
       "      <td>0.000000e+00</td>\n",
       "      <td>-4.745286e-19</td>\n",
       "      <td>0.000000e+00</td>\n",
       "      <td>0.000000e+00</td>\n",
       "    </tr>\n",
       "    <tr>\n",
       "      <th>1</th>\n",
       "      <td>1.000000</td>\n",
       "      <td>0.000000</td>\n",
       "      <td>9.551347e-14</td>\n",
       "      <td>-5.697639e-10</td>\n",
       "      <td>1.363047e-11</td>\n",
       "      <td>0.000000e+00</td>\n",
       "      <td>0.0</td>\n",
       "      <td>0.0</td>\n",
       "      <td>0.0</td>\n",
       "      <td>-1.130237e-10</td>\n",
       "      <td>-5.560379e-10</td>\n",
       "      <td>-7.313816e-09</td>\n",
       "      <td>-7.313816e-09</td>\n",
       "    </tr>\n",
       "    <tr>\n",
       "      <th>2</th>\n",
       "      <td>2.000000</td>\n",
       "      <td>0.001781</td>\n",
       "      <td>2.092702e-11</td>\n",
       "      <td>3.028030e-05</td>\n",
       "      <td>-2.995445e-09</td>\n",
       "      <td>-4.135757e-08</td>\n",
       "      <td>0.0</td>\n",
       "      <td>0.0</td>\n",
       "      <td>0.0</td>\n",
       "      <td>-2.172260e-07</td>\n",
       "      <td>1.811610e-03</td>\n",
       "      <td>8.721473e-08</td>\n",
       "      <td>8.721473e-08</td>\n",
       "    </tr>\n",
       "    <tr>\n",
       "      <th>3</th>\n",
       "      <td>3.000000</td>\n",
       "      <td>0.004792</td>\n",
       "      <td>-4.030366e-04</td>\n",
       "      <td>7.098535e-05</td>\n",
       "      <td>-6.539951e-05</td>\n",
       "      <td>-8.274325e-08</td>\n",
       "      <td>0.0</td>\n",
       "      <td>0.0</td>\n",
       "      <td>0.0</td>\n",
       "      <td>1.771112e-03</td>\n",
       "      <td>4.394156e-03</td>\n",
       "      <td>1.756488e-07</td>\n",
       "      <td>1.756488e-07</td>\n",
       "    </tr>\n",
       "    <tr>\n",
       "      <th>4</th>\n",
       "      <td>4.107778</td>\n",
       "      <td>0.024112</td>\n",
       "      <td>-2.248069e-03</td>\n",
       "      <td>3.648448e-04</td>\n",
       "      <td>-4.844820e-04</td>\n",
       "      <td>-1.095434e-07</td>\n",
       "      <td>0.0</td>\n",
       "      <td>0.0</td>\n",
       "      <td>0.0</td>\n",
       "      <td>1.959918e-02</td>\n",
       "      <td>2.174423e-02</td>\n",
       "      <td>2.325494e-07</td>\n",
       "      <td>2.325494e-07</td>\n",
       "    </tr>\n",
       "  </tbody>\n",
       "</table>\n",
       "</div>"
      ],
      "text/plain": [
       "       Time       HRR        Q_RADI        Q_CONV        Q_COND        Q_DIFF  \\\n",
       "0  0.000000  0.000000 -4.190175e-19 -5.551115e-20  0.000000e+00  0.000000e+00   \n",
       "1  1.000000  0.000000  9.551347e-14 -5.697639e-10  1.363047e-11  0.000000e+00   \n",
       "2  2.000000  0.001781  2.092702e-11  3.028030e-05 -2.995445e-09 -4.135757e-08   \n",
       "3  3.000000  0.004792 -4.030366e-04  7.098535e-05 -6.539951e-05 -8.274325e-08   \n",
       "4  4.107778  0.024112 -2.248069e-03  3.648448e-04 -4.844820e-04 -1.095434e-07   \n",
       "\n",
       "   Q_PRES  Q_PART  Q_GEOM        Q_ENTH       Q_TOTAL      MLR_FUEL  \\\n",
       "0     0.0     0.0     0.0  0.000000e+00 -4.745286e-19  0.000000e+00   \n",
       "1     0.0     0.0     0.0 -1.130237e-10 -5.560379e-10 -7.313816e-09   \n",
       "2     0.0     0.0     0.0 -2.172260e-07  1.811610e-03  8.721473e-08   \n",
       "3     0.0     0.0     0.0  1.771112e-03  4.394156e-03  1.756488e-07   \n",
       "4     0.0     0.0     0.0  1.959918e-02  2.174423e-02  2.325494e-07   \n",
       "\n",
       "      MLR_TOTAL  \n",
       "0  0.000000e+00  \n",
       "1 -7.313816e-09  \n",
       "2  8.721473e-08  \n",
       "3  1.756488e-07  \n",
       "4  2.325494e-07  "
      ]
     },
     "execution_count": 24,
     "metadata": {},
     "output_type": "execute_result"
    }
   ],
   "source": [
    "fds_hrr_file = os.path.join('ConePaintTest_50kW',\n",
    "                            'ConePaintTest_50kW_hrr.csv')\n",
    "\n",
    "fds_hrr_df = pd.read_csv(fds_hrr_file, header=1)\n",
    "fds_hrr_df.head()"
   ]
  },
  {
   "cell_type": "code",
   "execution_count": 25,
   "metadata": {},
   "outputs": [
    {
     "data": {
      "image/png": "[encoded data removed]",
      "text/plain": [
       "<Figure size 380.16x348.48 with 1 Axes>"
      ]
     },
     "metadata": {
      "needs_background": "light"
     },
     "output_type": "display_data"
    }
   ],
   "source": [
    "# Plot results\n",
    "\n",
    "# Define data to be plotted.\n",
    "plot_file_name = 'CCPaintCheck.png'\n",
    "\n",
    "# Set figure and font size. \n",
    "scaling = 0.88\n",
    "fontsize = 14\n",
    "\n",
    "plt.rcParams.update({'font.size': fontsize})\n",
    "plt.rcParams.update({'font.family': 'serif'})\n",
    "\n",
    "fig = plt.figure(figsize=(6.0*scaling,\n",
    "                          5.5*scaling))\n",
    "\n",
    "\n",
    "# Experimental data.\n",
    "plt.plot(df[column_label_x], \n",
    "         df[column_label_y], c='k',\n",
    "         label='Exp')\n",
    "# Data points of the RAMP.\n",
    "plt.scatter(ramp_df.Time, ramp_df.HRR, \n",
    "            c='r', label='RAMP')\n",
    "# Response from FDS.\n",
    "plt.plot(fds_hrr_df.Time,\n",
    "         fds_hrr_df.HRR/(0.1**2), \n",
    "         linestyle='dashed',\n",
    "         label='FDS');\n",
    "\n",
    "\n",
    "# Set meta information for plot.\n",
    "plt.xlabel('Time, in s')\n",
    "plt.ylabel('Energy Release Rate, in kW')\n",
    "\n",
    "plt.xlim(0, 2000)\n",
    "plt.ylim(0, 200)\n",
    "\n",
    "plt.legend()\n",
    "plt.grid()\n",
    "plt.tight_layout()\n",
    "\n",
    "# Save file.\n",
    "pfn = os.path.join(output_dir, \n",
    "                   plot_file_name)\n",
    "plt.savefig(pfn, dpi=320);"
   ]
  },
  {
   "cell_type": "code",
   "execution_count": null,
   "metadata": {},
   "outputs": [],
   "source": []
  },
  {
   "cell_type": "code",
   "execution_count": null,
   "metadata": {},
   "outputs": [],
   "source": []
  },
  {
   "cell_type": "code",
   "execution_count": null,
   "metadata": {},
   "outputs": [],
   "source": []
  },
  {
   "cell_type": "code",
   "execution_count": null,
   "metadata": {},
   "outputs": [],
   "source": []
  },
  {
   "cell_type": "code",
   "execution_count": null,
   "metadata": {},
   "outputs": [],
   "source": []
  },
  {
   "cell_type": "code",
   "execution_count": null,
   "metadata": {},
   "outputs": [],
   "source": []
  }
 ],
 "metadata": {
  "kernelspec": {
   "display_name": "Python 3",
   "language": "python",
   "name": "python3"
  },
  "language_info": {
   "codemirror_mode": {
    "name": "ipython",
    "version": 3
   },
   "file_extension": ".py",
   "mimetype": "text/x-python",
   "name": "python",
   "nbconvert_exporter": "python",
   "pygments_lexer": "ipython3",
   "version": "3.6.8"
  }
 },
 "nbformat": 4,
 "nbformat_minor": 2
}
